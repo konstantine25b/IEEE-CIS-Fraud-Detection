{
 "cells": [
  {
   "cell_type": "code",
   "execution_count": 1,
   "id": "ddedeb2c",
   "metadata": {
    "_cell_guid": "b1076dfc-b9ad-4769-8c92-a6c4dae69d19",
    "_uuid": "8f2839f25d086af736a60e9eeb907d3b93b6e0e5",
    "execution": {
     "iopub.execute_input": "2025-04-19T12:24:34.693914Z",
     "iopub.status.busy": "2025-04-19T12:24:34.693524Z",
     "iopub.status.idle": "2025-04-19T12:24:36.667520Z",
     "shell.execute_reply": "2025-04-19T12:24:36.666145Z"
    },
    "papermill": {
     "duration": 1.985279,
     "end_time": "2025-04-19T12:24:36.669265",
     "exception": false,
     "start_time": "2025-04-19T12:24:34.683986",
     "status": "completed"
    },
    "tags": []
   },
   "outputs": [
    {
     "name": "stdout",
     "output_type": "stream",
     "text": [
      "/kaggle/input/ieee-fraud-detection/sample_submission.csv\n",
      "/kaggle/input/ieee-fraud-detection/test_identity.csv\n",
      "/kaggle/input/ieee-fraud-detection/train_identity.csv\n",
      "/kaggle/input/ieee-fraud-detection/test_transaction.csv\n",
      "/kaggle/input/ieee-fraud-detection/train_transaction.csv\n"
     ]
    }
   ],
   "source": [
    "# This Python 3 environment comes with many helpful analytics libraries installed\n",
    "# It is defined by the kaggle/python Docker image: https://github.com/kaggle/docker-python\n",
    "# For example, here's several helpful packages to load\n",
    "\n",
    "import numpy as np # linear algebra\n",
    "import pandas as pd # data processing, CSV file I/O (e.g. pd.read_csv)\n",
    "\n",
    "# Input data files are available in the read-only \"../input/\" directory\n",
    "# For example, running this (by clicking run or pressing Shift+Enter) will list all files under the input directory\n",
    "\n",
    "import os\n",
    "for dirname, _, filenames in os.walk('/kaggle/input'):\n",
    "    for filename in filenames:\n",
    "        print(os.path.join(dirname, filename))\n",
    "\n",
    "# You can write up to 20GB to the current directory (/kaggle/working/) that gets preserved as output when you create a version using \"Save & Run All\" \n",
    "# You can also write temporary files to /kaggle/temp/, but they won't be saved outside of the current session"
   ]
  },
  {
   "cell_type": "code",
   "execution_count": 2,
   "id": "3ac910ee",
   "metadata": {
    "execution": {
     "iopub.execute_input": "2025-04-19T12:24:36.686761Z",
     "iopub.status.busy": "2025-04-19T12:24:36.686338Z",
     "iopub.status.idle": "2025-04-19T12:25:05.813345Z",
     "shell.execute_reply": "2025-04-19T12:25:05.812378Z"
    },
    "papermill": {
     "duration": 29.138038,
     "end_time": "2025-04-19T12:25:05.815129",
     "exception": false,
     "start_time": "2025-04-19T12:24:36.677091",
     "status": "completed"
    },
    "tags": []
   },
   "outputs": [],
   "source": [
    "try:\n",
    "    identity_df = pd.read_csv('/kaggle/input/ieee-fraud-detection/train_identity.csv')\n",
    "    transaction_df = pd.read_csv('/kaggle/input/ieee-fraud-detection/train_transaction.csv')\n",
    "except FileNotFoundError:\n",
    "    print(\"Error: One or both of the CSV files were not found. Please make sure the file paths are correct.\")\n",
    "    #  To prevent the rest of the code from running and causing errors.\n",
    "    exit()"
   ]
  },
  {
   "cell_type": "code",
   "execution_count": 3,
   "id": "e598812b",
   "metadata": {
    "execution": {
     "iopub.execute_input": "2025-04-19T12:25:05.831123Z",
     "iopub.status.busy": "2025-04-19T12:25:05.830835Z",
     "iopub.status.idle": "2025-04-19T12:25:12.915464Z",
     "shell.execute_reply": "2025-04-19T12:25:12.913929Z"
    },
    "papermill": {
     "duration": 7.094445,
     "end_time": "2025-04-19T12:25:12.917163",
     "exception": false,
     "start_time": "2025-04-19T12:25:05.822718",
     "status": "completed"
    },
    "tags": []
   },
   "outputs": [
    {
     "name": "stdout",
     "output_type": "stream",
     "text": [
      "Collecting dagshub\r\n",
      "  Downloading dagshub-0.5.9-py3-none-any.whl.metadata (12 kB)\r\n",
      "Requirement already satisfied: PyYAML>=5 in /usr/local/lib/python3.11/dist-packages (from dagshub) (6.0.2)\r\n",
      "Collecting appdirs>=1.4.4 (from dagshub)\r\n",
      "  Downloading appdirs-1.4.4-py2.py3-none-any.whl.metadata (9.0 kB)\r\n",
      "Requirement already satisfied: click>=8.0.4 in /usr/local/lib/python3.11/dist-packages (from dagshub) (8.1.8)\r\n",
      "Requirement already satisfied: httpx>=0.23.0 in /usr/local/lib/python3.11/dist-packages (from dagshub) (0.28.1)\r\n",
      "Requirement already satisfied: GitPython>=3.1.29 in /usr/local/lib/python3.11/dist-packages (from dagshub) (3.1.44)\r\n",
      "Requirement already satisfied: rich>=13.1.0 in /usr/local/lib/python3.11/dist-packages (from dagshub) (14.0.0)\r\n",
      "Collecting dacite~=1.6.0 (from dagshub)\r\n",
      "  Downloading dacite-1.6.0-py3-none-any.whl.metadata (14 kB)\r\n",
      "Requirement already satisfied: tenacity>=8.2.2 in /usr/local/lib/python3.11/dist-packages (from dagshub) (9.0.0)\r\n",
      "Collecting gql[requests] (from dagshub)\r\n",
      "  Downloading gql-3.5.2-py2.py3-none-any.whl.metadata (9.4 kB)\r\n",
      "Requirement already satisfied: dataclasses-json in /usr/local/lib/python3.11/dist-packages (from dagshub) (0.6.7)\r\n",
      "Requirement already satisfied: pandas in /usr/local/lib/python3.11/dist-packages (from dagshub) (2.2.3)\r\n",
      "Collecting treelib>=1.6.4 (from dagshub)\r\n",
      "  Downloading treelib-1.7.1-py3-none-any.whl.metadata (1.4 kB)\r\n",
      "Collecting pathvalidate>=3.0.0 (from dagshub)\r\n",
      "  Downloading pathvalidate-3.2.3-py3-none-any.whl.metadata (12 kB)\r\n",
      "Requirement already satisfied: python-dateutil in /usr/local/lib/python3.11/dist-packages (from dagshub) (2.9.0.post0)\r\n",
      "Requirement already satisfied: boto3 in /usr/local/lib/python3.11/dist-packages (from dagshub) (1.37.29)\r\n",
      "Requirement already satisfied: semver in /usr/local/lib/python3.11/dist-packages (from dagshub) (3.0.4)\r\n",
      "Collecting dagshub-annotation-converter>=0.1.5 (from dagshub)\r\n",
      "  Downloading dagshub_annotation_converter-0.1.9-py3-none-any.whl.metadata (2.5 kB)\r\n",
      "Requirement already satisfied: lxml in /usr/local/lib/python3.11/dist-packages (from dagshub-annotation-converter>=0.1.5->dagshub) (5.3.1)\r\n",
      "Requirement already satisfied: pillow in /usr/local/lib/python3.11/dist-packages (from dagshub-annotation-converter>=0.1.5->dagshub) (11.1.0)\r\n",
      "Requirement already satisfied: pydantic>=2.0.0 in /usr/local/lib/python3.11/dist-packages (from dagshub-annotation-converter>=0.1.5->dagshub) (2.11.3)\r\n",
      "Requirement already satisfied: typing-extensions in /usr/local/lib/python3.11/dist-packages (from dagshub-annotation-converter>=0.1.5->dagshub) (4.13.1)\r\n",
      "Requirement already satisfied: gitdb<5,>=4.0.1 in /usr/local/lib/python3.11/dist-packages (from GitPython>=3.1.29->dagshub) (4.0.12)\r\n",
      "Requirement already satisfied: anyio in /usr/local/lib/python3.11/dist-packages (from httpx>=0.23.0->dagshub) (3.7.1)\r\n",
      "Requirement already satisfied: certifi in /usr/local/lib/python3.11/dist-packages (from httpx>=0.23.0->dagshub) (2025.1.31)\r\n",
      "Requirement already satisfied: httpcore==1.* in /usr/local/lib/python3.11/dist-packages (from httpx>=0.23.0->dagshub) (1.0.7)\r\n",
      "Requirement already satisfied: idna in /usr/local/lib/python3.11/dist-packages (from httpx>=0.23.0->dagshub) (3.10)\r\n",
      "Requirement already satisfied: h11<0.15,>=0.13 in /usr/local/lib/python3.11/dist-packages (from httpcore==1.*->httpx>=0.23.0->dagshub) (0.14.0)\r\n",
      "Requirement already satisfied: markdown-it-py>=2.2.0 in /usr/local/lib/python3.11/dist-packages (from rich>=13.1.0->dagshub) (3.0.0)\r\n",
      "Requirement already satisfied: pygments<3.0.0,>=2.13.0 in /usr/local/lib/python3.11/dist-packages (from rich>=13.1.0->dagshub) (2.19.1)\r\n",
      "Requirement already satisfied: six in /usr/local/lib/python3.11/dist-packages (from treelib>=1.6.4->dagshub) (1.17.0)\r\n",
      "Requirement already satisfied: botocore<1.38.0,>=1.37.29 in /usr/local/lib/python3.11/dist-packages (from boto3->dagshub) (1.37.29)\r\n",
      "Requirement already satisfied: jmespath<2.0.0,>=0.7.1 in /usr/local/lib/python3.11/dist-packages (from boto3->dagshub) (1.0.1)\r\n",
      "Requirement already satisfied: s3transfer<0.12.0,>=0.11.0 in /usr/local/lib/python3.11/dist-packages (from boto3->dagshub) (0.11.4)\r\n",
      "Requirement already satisfied: marshmallow<4.0.0,>=3.18.0 in /usr/local/lib/python3.11/dist-packages (from dataclasses-json->dagshub) (3.26.1)\r\n",
      "Requirement already satisfied: typing-inspect<1,>=0.4.0 in /usr/local/lib/python3.11/dist-packages (from dataclasses-json->dagshub) (0.9.0)\r\n",
      "Collecting graphql-core<3.2.5,>=3.2 (from gql[requests]->dagshub)\r\n",
      "  Downloading graphql_core-3.2.4-py3-none-any.whl.metadata (10 kB)\r\n",
      "Requirement already satisfied: yarl<2.0,>=1.6 in /usr/local/lib/python3.11/dist-packages (from gql[requests]->dagshub) (1.19.0)\r\n",
      "Collecting backoff<3.0,>=1.11.1 (from gql[requests]->dagshub)\r\n",
      "  Downloading backoff-2.2.1-py3-none-any.whl.metadata (14 kB)\r\n",
      "Requirement already satisfied: requests<3,>=2.26 in /usr/local/lib/python3.11/dist-packages (from gql[requests]->dagshub) (2.32.3)\r\n",
      "Requirement already satisfied: requests-toolbelt<2,>=1.0.0 in /usr/local/lib/python3.11/dist-packages (from gql[requests]->dagshub) (1.0.0)\r\n",
      "Requirement already satisfied: numpy>=1.23.2 in /usr/local/lib/python3.11/dist-packages (from pandas->dagshub) (1.26.4)\r\n",
      "Requirement already satisfied: pytz>=2020.1 in /usr/local/lib/python3.11/dist-packages (from pandas->dagshub) (2025.2)\r\n",
      "Requirement already satisfied: tzdata>=2022.7 in /usr/local/lib/python3.11/dist-packages (from pandas->dagshub) (2025.2)\r\n",
      "Requirement already satisfied: sniffio>=1.1 in /usr/local/lib/python3.11/dist-packages (from anyio->httpx>=0.23.0->dagshub) (1.3.1)\r\n",
      "Requirement already satisfied: urllib3!=2.2.0,<3,>=1.25.4 in /usr/local/lib/python3.11/dist-packages (from botocore<1.38.0,>=1.37.29->boto3->dagshub) (2.3.0)\r\n",
      "Requirement already satisfied: smmap<6,>=3.0.1 in /usr/local/lib/python3.11/dist-packages (from gitdb<5,>=4.0.1->GitPython>=3.1.29->dagshub) (5.0.2)\r\n",
      "Requirement already satisfied: mdurl~=0.1 in /usr/local/lib/python3.11/dist-packages (from markdown-it-py>=2.2.0->rich>=13.1.0->dagshub) (0.1.2)\r\n",
      "Requirement already satisfied: packaging>=17.0 in /usr/local/lib/python3.11/dist-packages (from marshmallow<4.0.0,>=3.18.0->dataclasses-json->dagshub) (24.2)\r\n",
      "Requirement already satisfied: mkl_fft in /usr/local/lib/python3.11/dist-packages (from numpy>=1.23.2->pandas->dagshub) (1.3.8)\r\n",
      "Requirement already satisfied: mkl_random in /usr/local/lib/python3.11/dist-packages (from numpy>=1.23.2->pandas->dagshub) (1.2.4)\r\n",
      "Requirement already satisfied: mkl_umath in /usr/local/lib/python3.11/dist-packages (from numpy>=1.23.2->pandas->dagshub) (0.1.1)\r\n",
      "Requirement already satisfied: mkl in /usr/local/lib/python3.11/dist-packages (from numpy>=1.23.2->pandas->dagshub) (2025.1.0)\r\n",
      "Requirement already satisfied: tbb4py in /usr/local/lib/python3.11/dist-packages (from numpy>=1.23.2->pandas->dagshub) (2022.1.0)\r\n",
      "Requirement already satisfied: mkl-service in /usr/local/lib/python3.11/dist-packages (from numpy>=1.23.2->pandas->dagshub) (2.4.1)\r\n",
      "Requirement already satisfied: annotated-types>=0.6.0 in /usr/local/lib/python3.11/dist-packages (from pydantic>=2.0.0->dagshub-annotation-converter>=0.1.5->dagshub) (0.7.0)\r\n",
      "Requirement already satisfied: pydantic-core==2.33.1 in /usr/local/lib/python3.11/dist-packages (from pydantic>=2.0.0->dagshub-annotation-converter>=0.1.5->dagshub) (2.33.1)\r\n",
      "Requirement already satisfied: typing-inspection>=0.4.0 in /usr/local/lib/python3.11/dist-packages (from pydantic>=2.0.0->dagshub-annotation-converter>=0.1.5->dagshub) (0.4.0)\r\n",
      "Requirement already satisfied: charset-normalizer<4,>=2 in /usr/local/lib/python3.11/dist-packages (from requests<3,>=2.26->gql[requests]->dagshub) (3.4.1)\r\n",
      "Requirement already satisfied: mypy-extensions>=0.3.0 in /usr/local/lib/python3.11/dist-packages (from typing-inspect<1,>=0.4.0->dataclasses-json->dagshub) (1.0.0)\r\n",
      "Requirement already satisfied: multidict>=4.0 in /usr/local/lib/python3.11/dist-packages (from yarl<2.0,>=1.6->gql[requests]->dagshub) (6.2.0)\r\n",
      "Requirement already satisfied: propcache>=0.2.1 in /usr/local/lib/python3.11/dist-packages (from yarl<2.0,>=1.6->gql[requests]->dagshub) (0.3.1)\r\n",
      "Requirement already satisfied: intel-openmp<2026,>=2024 in /usr/local/lib/python3.11/dist-packages (from mkl->numpy>=1.23.2->pandas->dagshub) (2024.2.0)\r\n",
      "Requirement already satisfied: tbb==2022.* in /usr/local/lib/python3.11/dist-packages (from mkl->numpy>=1.23.2->pandas->dagshub) (2022.1.0)\r\n",
      "Requirement already satisfied: tcmlib==1.* in /usr/local/lib/python3.11/dist-packages (from tbb==2022.*->mkl->numpy>=1.23.2->pandas->dagshub) (1.2.0)\r\n",
      "Requirement already satisfied: intel-cmplr-lib-rt in /usr/local/lib/python3.11/dist-packages (from mkl_umath->numpy>=1.23.2->pandas->dagshub) (2024.2.0)\r\n",
      "Requirement already satisfied: intel-cmplr-lib-ur==2024.2.0 in /usr/local/lib/python3.11/dist-packages (from intel-openmp<2026,>=2024->mkl->numpy>=1.23.2->pandas->dagshub) (2024.2.0)\r\n",
      "Downloading dagshub-0.5.9-py3-none-any.whl (260 kB)\r\n",
      "\u001b[2K   \u001b[90m━━━━━━━━━━━━━━━━━━━━━━━━━━━━━━━━━━━━━━━━\u001b[0m \u001b[32m260.1/260.1 kB\u001b[0m \u001b[31m10.3 MB/s\u001b[0m eta \u001b[36m0:00:00\u001b[0m\r\n",
      "\u001b[?25hDownloading appdirs-1.4.4-py2.py3-none-any.whl (9.6 kB)\r\n",
      "Downloading dacite-1.6.0-py3-none-any.whl (12 kB)\r\n",
      "Downloading dagshub_annotation_converter-0.1.9-py3-none-any.whl (33 kB)\r\n",
      "Downloading pathvalidate-3.2.3-py3-none-any.whl (24 kB)\r\n",
      "Downloading treelib-1.7.1-py3-none-any.whl (19 kB)\r\n",
      "Downloading backoff-2.2.1-py3-none-any.whl (15 kB)\r\n",
      "Downloading graphql_core-3.2.4-py3-none-any.whl (203 kB)\r\n",
      "\u001b[2K   \u001b[90m━━━━━━━━━━━━━━━━━━━━━━━━━━━━━━━━━━━━━━━━\u001b[0m \u001b[32m203.2/203.2 kB\u001b[0m \u001b[31m11.9 MB/s\u001b[0m eta \u001b[36m0:00:00\u001b[0m\r\n",
      "\u001b[?25hDownloading gql-3.5.2-py2.py3-none-any.whl (74 kB)\r\n",
      "\u001b[2K   \u001b[90m━━━━━━━━━━━━━━━━━━━━━━━━━━━━━━━━━━━━━━━━\u001b[0m \u001b[32m74.3/74.3 kB\u001b[0m \u001b[31m3.8 MB/s\u001b[0m eta \u001b[36m0:00:00\u001b[0m\r\n",
      "\u001b[?25hInstalling collected packages: appdirs, treelib, pathvalidate, graphql-core, dacite, backoff, gql, dagshub-annotation-converter, dagshub\r\n",
      "  Attempting uninstall: dacite\r\n",
      "    Found existing installation: dacite 1.9.2\r\n",
      "    Uninstalling dacite-1.9.2:\r\n",
      "      Successfully uninstalled dacite-1.9.2\r\n",
      "\u001b[31mERROR: pip's dependency resolver does not currently take into account all the packages that are installed. This behaviour is the source of the following dependency conflicts.\r\n",
      "ydata-profiling 4.16.1 requires dacite>=1.8, but you have dacite 1.6.0 which is incompatible.\u001b[0m\u001b[31m\r\n",
      "\u001b[0mSuccessfully installed appdirs-1.4.4 backoff-2.2.1 dacite-1.6.0 dagshub-0.5.9 dagshub-annotation-converter-0.1.9 gql-3.5.2 graphql-core-3.2.4 pathvalidate-3.2.3 treelib-1.7.1\r\n",
      "Note: you may need to restart the kernel to use updated packages.\n"
     ]
    }
   ],
   "source": [
    "%pip install dagshub \n"
   ]
  },
  {
   "cell_type": "code",
   "execution_count": 4,
   "id": "729f1104",
   "metadata": {
    "execution": {
     "iopub.execute_input": "2025-04-19T12:25:12.936334Z",
     "iopub.status.busy": "2025-04-19T12:25:12.935960Z",
     "iopub.status.idle": "2025-04-19T12:25:24.081086Z",
     "shell.execute_reply": "2025-04-19T12:25:24.079908Z"
    },
    "papermill": {
     "duration": 11.156641,
     "end_time": "2025-04-19T12:25:24.082785",
     "exception": false,
     "start_time": "2025-04-19T12:25:12.926144",
     "status": "completed"
    },
    "tags": []
   },
   "outputs": [
    {
     "name": "stdout",
     "output_type": "stream",
     "text": [
      "Collecting mlflow\r\n",
      "  Downloading mlflow-2.21.3-py3-none-any.whl.metadata (30 kB)\r\n",
      "Collecting mlflow-skinny==2.21.3 (from mlflow)\r\n",
      "  Downloading mlflow_skinny-2.21.3-py3-none-any.whl.metadata (31 kB)\r\n",
      "Requirement already satisfied: Flask<4 in /usr/local/lib/python3.11/dist-packages (from mlflow) (3.1.0)\r\n",
      "Requirement already satisfied: Jinja2<4,>=2.11 in /usr/local/lib/python3.11/dist-packages (from mlflow) (3.1.6)\r\n",
      "Requirement already satisfied: alembic!=1.10.0,<2 in /usr/local/lib/python3.11/dist-packages (from mlflow) (1.15.2)\r\n",
      "Requirement already satisfied: docker<8,>=4.0.0 in /usr/local/lib/python3.11/dist-packages (from mlflow) (7.1.0)\r\n",
      "Collecting graphene<4 (from mlflow)\r\n",
      "  Downloading graphene-3.4.3-py2.py3-none-any.whl.metadata (6.9 kB)\r\n",
      "Collecting gunicorn<24 (from mlflow)\r\n",
      "  Downloading gunicorn-23.0.0-py3-none-any.whl.metadata (4.4 kB)\r\n",
      "Requirement already satisfied: markdown<4,>=3.3 in /usr/local/lib/python3.11/dist-packages (from mlflow) (3.7)\r\n",
      "Requirement already satisfied: matplotlib<4 in /usr/local/lib/python3.11/dist-packages (from mlflow) (3.7.5)\r\n",
      "Requirement already satisfied: numpy<3 in /usr/local/lib/python3.11/dist-packages (from mlflow) (1.26.4)\r\n",
      "Requirement already satisfied: pandas<3 in /usr/local/lib/python3.11/dist-packages (from mlflow) (2.2.3)\r\n",
      "Requirement already satisfied: pyarrow<20,>=4.0.0 in /usr/local/lib/python3.11/dist-packages (from mlflow) (19.0.1)\r\n",
      "Requirement already satisfied: scikit-learn<2 in /usr/local/lib/python3.11/dist-packages (from mlflow) (1.2.2)\r\n",
      "Requirement already satisfied: scipy<2 in /usr/local/lib/python3.11/dist-packages (from mlflow) (1.15.2)\r\n",
      "Requirement already satisfied: sqlalchemy<3,>=1.4.0 in /usr/local/lib/python3.11/dist-packages (from mlflow) (2.0.38)\r\n",
      "Requirement already satisfied: cachetools<6,>=5.0.0 in /usr/local/lib/python3.11/dist-packages (from mlflow-skinny==2.21.3->mlflow) (5.5.2)\r\n",
      "Requirement already satisfied: click<9,>=7.0 in /usr/local/lib/python3.11/dist-packages (from mlflow-skinny==2.21.3->mlflow) (8.1.8)\r\n",
      "Requirement already satisfied: cloudpickle<4 in /usr/local/lib/python3.11/dist-packages (from mlflow-skinny==2.21.3->mlflow) (3.1.1)\r\n",
      "Collecting databricks-sdk<1,>=0.20.0 (from mlflow-skinny==2.21.3->mlflow)\r\n",
      "  Downloading databricks_sdk-0.50.0-py3-none-any.whl.metadata (38 kB)\r\n",
      "Collecting fastapi<1 (from mlflow-skinny==2.21.3->mlflow)\r\n",
      "  Downloading fastapi-0.115.12-py3-none-any.whl.metadata (27 kB)\r\n",
      "Requirement already satisfied: gitpython<4,>=3.1.9 in /usr/local/lib/python3.11/dist-packages (from mlflow-skinny==2.21.3->mlflow) (3.1.44)\r\n",
      "Requirement already satisfied: importlib_metadata!=4.7.0,<9,>=3.7.0 in /usr/local/lib/python3.11/dist-packages (from mlflow-skinny==2.21.3->mlflow) (8.6.1)\r\n",
      "Requirement already satisfied: opentelemetry-api<3,>=1.9.0 in /usr/local/lib/python3.11/dist-packages (from mlflow-skinny==2.21.3->mlflow) (1.16.0)\r\n",
      "Requirement already satisfied: opentelemetry-sdk<3,>=1.9.0 in /usr/local/lib/python3.11/dist-packages (from mlflow-skinny==2.21.3->mlflow) (1.16.0)\r\n",
      "Requirement already satisfied: packaging<25 in /usr/local/lib/python3.11/dist-packages (from mlflow-skinny==2.21.3->mlflow) (24.2)\r\n",
      "Requirement already satisfied: protobuf<6,>=3.12.0 in /usr/local/lib/python3.11/dist-packages (from mlflow-skinny==2.21.3->mlflow) (3.20.3)\r\n",
      "Requirement already satisfied: pydantic<3,>=1.10.8 in /usr/local/lib/python3.11/dist-packages (from mlflow-skinny==2.21.3->mlflow) (2.11.3)\r\n",
      "Requirement already satisfied: pyyaml<7,>=5.1 in /usr/local/lib/python3.11/dist-packages (from mlflow-skinny==2.21.3->mlflow) (6.0.2)\r\n",
      "Requirement already satisfied: requests<3,>=2.17.3 in /usr/local/lib/python3.11/dist-packages (from mlflow-skinny==2.21.3->mlflow) (2.32.3)\r\n",
      "Requirement already satisfied: sqlparse<1,>=0.4.0 in /usr/local/lib/python3.11/dist-packages (from mlflow-skinny==2.21.3->mlflow) (0.5.3)\r\n",
      "Requirement already satisfied: typing-extensions<5,>=4.0.0 in /usr/local/lib/python3.11/dist-packages (from mlflow-skinny==2.21.3->mlflow) (4.13.1)\r\n",
      "Collecting uvicorn<1 (from mlflow-skinny==2.21.3->mlflow)\r\n",
      "  Downloading uvicorn-0.34.2-py3-none-any.whl.metadata (6.5 kB)\r\n",
      "Requirement already satisfied: Mako in /usr/local/lib/python3.11/dist-packages (from alembic!=1.10.0,<2->mlflow) (1.3.9)\r\n",
      "Requirement already satisfied: urllib3>=1.26.0 in /usr/local/lib/python3.11/dist-packages (from docker<8,>=4.0.0->mlflow) (2.3.0)\r\n",
      "Requirement already satisfied: Werkzeug>=3.1 in /usr/local/lib/python3.11/dist-packages (from Flask<4->mlflow) (3.1.3)\r\n",
      "Requirement already satisfied: itsdangerous>=2.2 in /usr/local/lib/python3.11/dist-packages (from Flask<4->mlflow) (2.2.0)\r\n",
      "Requirement already satisfied: blinker>=1.9 in /usr/local/lib/python3.11/dist-packages (from Flask<4->mlflow) (1.9.0)\r\n",
      "Requirement already satisfied: graphql-core<3.3,>=3.1 in /usr/local/lib/python3.11/dist-packages (from graphene<4->mlflow) (3.2.4)\r\n",
      "Collecting graphql-relay<3.3,>=3.1 (from graphene<4->mlflow)\r\n",
      "  Downloading graphql_relay-3.2.0-py3-none-any.whl.metadata (12 kB)\r\n",
      "Requirement already satisfied: python-dateutil<3,>=2.7.0 in /usr/local/lib/python3.11/dist-packages (from graphene<4->mlflow) (2.9.0.post0)\r\n",
      "Requirement already satisfied: MarkupSafe>=2.0 in /usr/local/lib/python3.11/dist-packages (from Jinja2<4,>=2.11->mlflow) (3.0.2)\r\n",
      "Requirement already satisfied: contourpy>=1.0.1 in /usr/local/lib/python3.11/dist-packages (from matplotlib<4->mlflow) (1.3.1)\r\n",
      "Requirement already satisfied: cycler>=0.10 in /usr/local/lib/python3.11/dist-packages (from matplotlib<4->mlflow) (0.12.1)\r\n",
      "Requirement already satisfied: fonttools>=4.22.0 in /usr/local/lib/python3.11/dist-packages (from matplotlib<4->mlflow) (4.56.0)\r\n",
      "Requirement already satisfied: kiwisolver>=1.0.1 in /usr/local/lib/python3.11/dist-packages (from matplotlib<4->mlflow) (1.4.8)\r\n",
      "Requirement already satisfied: pillow>=6.2.0 in /usr/local/lib/python3.11/dist-packages (from matplotlib<4->mlflow) (11.1.0)\r\n",
      "Requirement already satisfied: pyparsing>=2.3.1 in /usr/local/lib/python3.11/dist-packages (from matplotlib<4->mlflow) (3.2.1)\r\n",
      "Requirement already satisfied: mkl_fft in /usr/local/lib/python3.11/dist-packages (from numpy<3->mlflow) (1.3.8)\r\n",
      "Requirement already satisfied: mkl_random in /usr/local/lib/python3.11/dist-packages (from numpy<3->mlflow) (1.2.4)\r\n",
      "Requirement already satisfied: mkl_umath in /usr/local/lib/python3.11/dist-packages (from numpy<3->mlflow) (0.1.1)\r\n",
      "Requirement already satisfied: mkl in /usr/local/lib/python3.11/dist-packages (from numpy<3->mlflow) (2025.1.0)\r\n",
      "Requirement already satisfied: tbb4py in /usr/local/lib/python3.11/dist-packages (from numpy<3->mlflow) (2022.1.0)\r\n",
      "Requirement already satisfied: mkl-service in /usr/local/lib/python3.11/dist-packages (from numpy<3->mlflow) (2.4.1)\r\n",
      "Requirement already satisfied: pytz>=2020.1 in /usr/local/lib/python3.11/dist-packages (from pandas<3->mlflow) (2025.2)\r\n",
      "Requirement already satisfied: tzdata>=2022.7 in /usr/local/lib/python3.11/dist-packages (from pandas<3->mlflow) (2025.2)\r\n",
      "Requirement already satisfied: joblib>=1.1.1 in /usr/local/lib/python3.11/dist-packages (from scikit-learn<2->mlflow) (1.4.2)\r\n",
      "Requirement already satisfied: threadpoolctl>=2.0.0 in /usr/local/lib/python3.11/dist-packages (from scikit-learn<2->mlflow) (3.6.0)\r\n",
      "Requirement already satisfied: greenlet!=0.4.17 in /usr/local/lib/python3.11/dist-packages (from sqlalchemy<3,>=1.4.0->mlflow) (3.1.1)\r\n",
      "Requirement already satisfied: google-auth~=2.0 in /usr/local/lib/python3.11/dist-packages (from databricks-sdk<1,>=0.20.0->mlflow-skinny==2.21.3->mlflow) (2.27.0)\r\n",
      "Collecting starlette<0.47.0,>=0.40.0 (from fastapi<1->mlflow-skinny==2.21.3->mlflow)\r\n",
      "  Downloading starlette-0.46.2-py3-none-any.whl.metadata (6.2 kB)\r\n",
      "Requirement already satisfied: gitdb<5,>=4.0.1 in /usr/local/lib/python3.11/dist-packages (from gitpython<4,>=3.1.9->mlflow-skinny==2.21.3->mlflow) (4.0.12)\r\n",
      "Requirement already satisfied: zipp>=3.20 in /usr/local/lib/python3.11/dist-packages (from importlib_metadata!=4.7.0,<9,>=3.7.0->mlflow-skinny==2.21.3->mlflow) (3.21.0)\r\n",
      "Requirement already satisfied: deprecated>=1.2.6 in /usr/local/lib/python3.11/dist-packages (from opentelemetry-api<3,>=1.9.0->mlflow-skinny==2.21.3->mlflow) (1.2.18)\r\n",
      "Requirement already satisfied: setuptools>=16.0 in /usr/local/lib/python3.11/dist-packages (from opentelemetry-api<3,>=1.9.0->mlflow-skinny==2.21.3->mlflow) (75.1.0)\r\n",
      "Requirement already satisfied: opentelemetry-semantic-conventions==0.37b0 in /usr/local/lib/python3.11/dist-packages (from opentelemetry-sdk<3,>=1.9.0->mlflow-skinny==2.21.3->mlflow) (0.37b0)\r\n",
      "Requirement already satisfied: annotated-types>=0.6.0 in /usr/local/lib/python3.11/dist-packages (from pydantic<3,>=1.10.8->mlflow-skinny==2.21.3->mlflow) (0.7.0)\r\n",
      "Requirement already satisfied: pydantic-core==2.33.1 in /usr/local/lib/python3.11/dist-packages (from pydantic<3,>=1.10.8->mlflow-skinny==2.21.3->mlflow) (2.33.1)\r\n",
      "Requirement already satisfied: typing-inspection>=0.4.0 in /usr/local/lib/python3.11/dist-packages (from pydantic<3,>=1.10.8->mlflow-skinny==2.21.3->mlflow) (0.4.0)\r\n",
      "Requirement already satisfied: six>=1.5 in /usr/local/lib/python3.11/dist-packages (from python-dateutil<3,>=2.7.0->graphene<4->mlflow) (1.17.0)\r\n",
      "Requirement already satisfied: charset-normalizer<4,>=2 in /usr/local/lib/python3.11/dist-packages (from requests<3,>=2.17.3->mlflow-skinny==2.21.3->mlflow) (3.4.1)\r\n",
      "Requirement already satisfied: idna<4,>=2.5 in /usr/local/lib/python3.11/dist-packages (from requests<3,>=2.17.3->mlflow-skinny==2.21.3->mlflow) (3.10)\r\n",
      "Requirement already satisfied: certifi>=2017.4.17 in /usr/local/lib/python3.11/dist-packages (from requests<3,>=2.17.3->mlflow-skinny==2.21.3->mlflow) (2025.1.31)\r\n",
      "Requirement already satisfied: h11>=0.8 in /usr/local/lib/python3.11/dist-packages (from uvicorn<1->mlflow-skinny==2.21.3->mlflow) (0.14.0)\r\n",
      "Requirement already satisfied: intel-openmp<2026,>=2024 in /usr/local/lib/python3.11/dist-packages (from mkl->numpy<3->mlflow) (2024.2.0)\r\n",
      "Requirement already satisfied: tbb==2022.* in /usr/local/lib/python3.11/dist-packages (from mkl->numpy<3->mlflow) (2022.1.0)\r\n",
      "Requirement already satisfied: tcmlib==1.* in /usr/local/lib/python3.11/dist-packages (from tbb==2022.*->mkl->numpy<3->mlflow) (1.2.0)\r\n",
      "Requirement already satisfied: intel-cmplr-lib-rt in /usr/local/lib/python3.11/dist-packages (from mkl_umath->numpy<3->mlflow) (2024.2.0)\r\n",
      "Requirement already satisfied: wrapt<2,>=1.10 in /usr/local/lib/python3.11/dist-packages (from deprecated>=1.2.6->opentelemetry-api<3,>=1.9.0->mlflow-skinny==2.21.3->mlflow) (1.17.2)\r\n",
      "Requirement already satisfied: smmap<6,>=3.0.1 in /usr/local/lib/python3.11/dist-packages (from gitdb<5,>=4.0.1->gitpython<4,>=3.1.9->mlflow-skinny==2.21.3->mlflow) (5.0.2)\r\n",
      "Requirement already satisfied: pyasn1-modules>=0.2.1 in /usr/local/lib/python3.11/dist-packages (from google-auth~=2.0->databricks-sdk<1,>=0.20.0->mlflow-skinny==2.21.3->mlflow) (0.4.1)\r\n",
      "Requirement already satisfied: rsa<5,>=3.1.4 in /usr/local/lib/python3.11/dist-packages (from google-auth~=2.0->databricks-sdk<1,>=0.20.0->mlflow-skinny==2.21.3->mlflow) (4.9)\r\n",
      "Requirement already satisfied: intel-cmplr-lib-ur==2024.2.0 in /usr/local/lib/python3.11/dist-packages (from intel-openmp<2026,>=2024->mkl->numpy<3->mlflow) (2024.2.0)\r\n",
      "Requirement already satisfied: anyio<5,>=3.6.2 in /usr/local/lib/python3.11/dist-packages (from starlette<0.47.0,>=0.40.0->fastapi<1->mlflow-skinny==2.21.3->mlflow) (3.7.1)\r\n",
      "Requirement already satisfied: sniffio>=1.1 in /usr/local/lib/python3.11/dist-packages (from anyio<5,>=3.6.2->starlette<0.47.0,>=0.40.0->fastapi<1->mlflow-skinny==2.21.3->mlflow) (1.3.1)\r\n",
      "Requirement already satisfied: pyasn1<0.7.0,>=0.4.6 in /usr/local/lib/python3.11/dist-packages (from pyasn1-modules>=0.2.1->google-auth~=2.0->databricks-sdk<1,>=0.20.0->mlflow-skinny==2.21.3->mlflow) (0.6.1)\r\n",
      "Downloading mlflow-2.21.3-py3-none-any.whl (28.2 MB)\r\n",
      "\u001b[2K   \u001b[90m━━━━━━━━━━━━━━━━━━━━━━━━━━━━━━━━━━━━━━━━\u001b[0m \u001b[32m28.2/28.2 MB\u001b[0m \u001b[31m58.9 MB/s\u001b[0m eta \u001b[36m0:00:00\u001b[0m\r\n",
      "\u001b[?25hDownloading mlflow_skinny-2.21.3-py3-none-any.whl (6.1 MB)\r\n",
      "\u001b[2K   \u001b[90m━━━━━━━━━━━━━━━━━━━━━━━━━━━━━━━━━━━━━━━━\u001b[0m \u001b[32m6.1/6.1 MB\u001b[0m \u001b[31m87.4 MB/s\u001b[0m eta \u001b[36m0:00:00\u001b[0m\r\n",
      "\u001b[?25hDownloading graphene-3.4.3-py2.py3-none-any.whl (114 kB)\r\n",
      "\u001b[2K   \u001b[90m━━━━━━━━━━━━━━━━━━━━━━━━━━━━━━━━━━━━━━━━\u001b[0m \u001b[32m114.9/114.9 kB\u001b[0m \u001b[31m4.4 MB/s\u001b[0m eta \u001b[36m0:00:00\u001b[0m\r\n",
      "\u001b[?25hDownloading gunicorn-23.0.0-py3-none-any.whl (85 kB)\r\n",
      "\u001b[2K   \u001b[90m━━━━━━━━━━━━━━━━━━━━━━━━━━━━━━━━━━━━━━━━\u001b[0m \u001b[32m85.0/85.0 kB\u001b[0m \u001b[31m4.3 MB/s\u001b[0m eta \u001b[36m0:00:00\u001b[0m\r\n",
      "\u001b[?25hDownloading databricks_sdk-0.50.0-py3-none-any.whl (692 kB)\r\n",
      "\u001b[2K   \u001b[90m━━━━━━━━━━━━━━━━━━━━━━━━━━━━━━━━━━━━━━━━\u001b[0m \u001b[32m692.3/692.3 kB\u001b[0m \u001b[31m28.0 MB/s\u001b[0m eta \u001b[36m0:00:00\u001b[0m\r\n",
      "\u001b[?25hDownloading fastapi-0.115.12-py3-none-any.whl (95 kB)\r\n",
      "\u001b[2K   \u001b[90m━━━━━━━━━━━━━━━━━━━━━━━━━━━━━━━━━━━━━━━━\u001b[0m \u001b[32m95.2/95.2 kB\u001b[0m \u001b[31m4.6 MB/s\u001b[0m eta \u001b[36m0:00:00\u001b[0m\r\n",
      "\u001b[?25hDownloading graphql_relay-3.2.0-py3-none-any.whl (16 kB)\r\n",
      "Downloading uvicorn-0.34.2-py3-none-any.whl (62 kB)\r\n",
      "\u001b[2K   \u001b[90m━━━━━━━━━━━━━━━━━━━━━━━━━━━━━━━━━━━━━━━━\u001b[0m \u001b[32m62.5/62.5 kB\u001b[0m \u001b[31m3.1 MB/s\u001b[0m eta \u001b[36m0:00:00\u001b[0m\r\n",
      "\u001b[?25hDownloading starlette-0.46.2-py3-none-any.whl (72 kB)\r\n",
      "\u001b[2K   \u001b[90m━━━━━━━━━━━━━━━━━━━━━━━━━━━━━━━━━━━━━━━━\u001b[0m \u001b[32m72.0/72.0 kB\u001b[0m \u001b[31m3.2 MB/s\u001b[0m eta \u001b[36m0:00:00\u001b[0m\r\n",
      "\u001b[?25hInstalling collected packages: uvicorn, gunicorn, graphql-relay, starlette, graphene, fastapi, databricks-sdk, mlflow-skinny, mlflow\r\n",
      "Successfully installed databricks-sdk-0.50.0 fastapi-0.115.12 graphene-3.4.3 graphql-relay-3.2.0 gunicorn-23.0.0 mlflow-2.21.3 mlflow-skinny-2.21.3 starlette-0.46.2 uvicorn-0.34.2\r\n",
      "Note: you may need to restart the kernel to use updated packages.\n"
     ]
    }
   ],
   "source": [
    "%pip install mlflow "
   ]
  },
  {
   "cell_type": "code",
   "execution_count": 5,
   "id": "c29987e7",
   "metadata": {
    "execution": {
     "iopub.execute_input": "2025-04-19T12:25:24.107469Z",
     "iopub.status.busy": "2025-04-19T12:25:24.106536Z",
     "iopub.status.idle": "2025-04-19T12:30:29.011281Z",
     "shell.execute_reply": "2025-04-19T12:30:29.010278Z"
    },
    "papermill": {
     "duration": 304.918823,
     "end_time": "2025-04-19T12:30:29.013163",
     "exception": false,
     "start_time": "2025-04-19T12:25:24.094340",
     "status": "completed"
    },
    "tags": []
   },
   "outputs": [
    {
     "data": {
      "text/html": [
       "<pre style=\"white-space:pre;overflow-x:auto;line-height:normal;font-family:Menlo,'DejaVu Sans Mono',consolas,'Courier New',monospace\">                                       <span style=\"font-weight: bold\">❗❗❗ AUTHORIZATION REQUIRED ❗❗❗</span>                                        \n",
       "</pre>\n"
      ],
      "text/plain": [
       "                                       \u001b[1m❗❗❗ AUTHORIZATION REQUIRED ❗❗❗\u001b[0m                                        \n"
      ]
     },
     "metadata": {},
     "output_type": "display_data"
    },
    {
     "name": "stdout",
     "output_type": "stream",
     "text": [
      "\n",
      "\n",
      "Open the following link in your browser to authorize the client:\n",
      "https://dagshub.com/login/oauth/authorize?state=f9188c79-5e8e-4a04-ba1b-b3f5b65033cf&client_id=32b60ba385aa7cecf24046d8195a71c07dd345d9657977863b52e7748e0f0f28&middleman_request_id=6ff684995d60ccbb3ccb1dda0d0dd920c939c518b4e0a38656b7387a2c50eeb9\n",
      "\n",
      "\n"
     ]
    },
    {
     "data": {
      "application/vnd.jupyter.widget-view+json": {
       "model_id": "92a1575869564145becf71a326992529",
       "version_major": 2,
       "version_minor": 0
      },
      "text/plain": [
       "Output()"
      ]
     },
     "metadata": {},
     "output_type": "display_data"
    },
    {
     "data": {
      "text/html": [
       "<pre style=\"white-space:pre;overflow-x:auto;line-height:normal;font-family:Menlo,'DejaVu Sans Mono',consolas,'Courier New',monospace\"></pre>\n"
      ],
      "text/plain": []
     },
     "metadata": {},
     "output_type": "display_data"
    },
    {
     "name": "stdout",
     "output_type": "stream",
     "text": [
      "Could not initialize DagsHub or set MLflow experiment: Expecting value: line 1 column 1 (char 0)\n",
      "Proceeding without MLflow tracking.\n"
     ]
    }
   ],
   "source": [
    "import mlflow\n",
    "import mlflow.sklearn\n",
    "import dagshub\n",
    "\n",
    "try:\n",
    "    # Initialize Dagshub only if the repo info is correct\n",
    "    dagshub.init(repo_owner='konstantine25b', repo_name='IEEE-CIS-Fraud-Detection', mlflow=True)\n",
    "    print(\"DagsHub initialized successfully.\")\n",
    "    mlflow.set_experiment(\"IEEE-CIS Fraud Detection_PreProcessing\")\n",
    "    print(f\"MLflow experiment set to: {mlflow.get_experiment_by_name('IEEE-CIS Fraud Detection_PreProcessing').name}\")\n",
    "except Exception as e:\n",
    "    print(f\"Could not initialize DagsHub or set MLflow experiment: {e}\")\n",
    "    print(\"Proceeding without MLflow tracking.\")\n",
    "    # Set a dummy client to avoid errors if tracking fails\n",
    "    mlflow_active = False\n",
    "else:\n",
    "    mlflow_active = True"
   ]
  },
  {
   "cell_type": "markdown",
   "id": "328c99cf",
   "metadata": {
    "papermill": {
     "duration": 0.016963,
     "end_time": "2025-04-19T12:30:29.047274",
     "exception": false,
     "start_time": "2025-04-19T12:30:29.030311",
     "status": "completed"
    },
    "tags": []
   },
   "source": [
    "# Explore Identity Table"
   ]
  },
  {
   "cell_type": "code",
   "execution_count": 6,
   "id": "5b6ee868",
   "metadata": {
    "execution": {
     "iopub.execute_input": "2025-04-19T12:30:38.903417Z",
     "iopub.status.busy": "2025-04-19T12:30:38.903089Z",
     "iopub.status.idle": "2025-04-19T12:30:39.070783Z",
     "shell.execute_reply": "2025-04-19T12:30:39.069536Z"
    },
    "papermill": {
     "duration": 10.005315,
     "end_time": "2025-04-19T12:30:39.072739",
     "exception": false,
     "start_time": "2025-04-19T12:30:29.067424",
     "status": "completed"
    },
    "tags": []
   },
   "outputs": [
    {
     "name": "stdout",
     "output_type": "stream",
     "text": [
      "Identity Table Exploration:\n",
      "Number of rows: 144233\n",
      "Shape of the DataFrame: (144233, 41)\n",
      "\n",
      "Missing values per column:\n",
      "id_24            139486\n",
      "id_25            139101\n",
      "id_07            139078\n",
      "id_08            139078\n",
      "id_21            139074\n",
      "id_26            139070\n",
      "id_23            139064\n",
      "id_27            139064\n",
      "id_22            139064\n",
      "id_18             99120\n",
      "id_03             77909\n",
      "id_04             77909\n",
      "id_33             70944\n",
      "id_09             69307\n",
      "id_10             69307\n",
      "id_30             66668\n",
      "id_32             66647\n",
      "id_34             66428\n",
      "id_14             64189\n",
      "DeviceInfo        25567\n",
      "id_13             16913\n",
      "id_16             14893\n",
      "id_06              7368\n",
      "id_05              7368\n",
      "id_20              4972\n",
      "id_19              4915\n",
      "id_17              4864\n",
      "id_31              3951\n",
      "DeviceType         3423\n",
      "id_02              3361\n",
      "id_28              3255\n",
      "id_29              3255\n",
      "id_11              3255\n",
      "id_15              3248\n",
      "id_35              3248\n",
      "id_36              3248\n",
      "id_37              3248\n",
      "id_38              3248\n",
      "id_01                 0\n",
      "id_12                 0\n",
      "TransactionID         0\n",
      "dtype: int64\n"
     ]
    }
   ],
   "source": [
    "print(\"Identity Table Exploration:\")\n",
    "print(f\"Number of rows: {len(identity_df)}\")\n",
    "print(f\"Shape of the DataFrame: {identity_df.shape}\")\n",
    "print(\"\\nMissing values per column:\")\n",
    "print(identity_df.isnull().sum().sort_values(ascending=False))\n"
   ]
  },
  {
   "cell_type": "code",
   "execution_count": 7,
   "id": "55447eeb",
   "metadata": {
    "execution": {
     "iopub.execute_input": "2025-04-19T12:30:39.100445Z",
     "iopub.status.busy": "2025-04-19T12:30:39.099564Z",
     "iopub.status.idle": "2025-04-19T12:30:39.144286Z",
     "shell.execute_reply": "2025-04-19T12:30:39.143480Z"
    },
    "papermill": {
     "duration": 0.060726,
     "end_time": "2025-04-19T12:30:39.146528",
     "exception": false,
     "start_time": "2025-04-19T12:30:39.085802",
     "status": "completed"
    },
    "tags": []
   },
   "outputs": [
    {
     "name": "stderr",
     "output_type": "stream",
     "text": [
      "/usr/local/lib/python3.11/dist-packages/pandas/io/formats/format.py:1458: RuntimeWarning: invalid value encountered in greater\n",
      "  has_large_values = (abs_vals > 1e6).any()\n",
      "/usr/local/lib/python3.11/dist-packages/pandas/io/formats/format.py:1459: RuntimeWarning: invalid value encountered in less\n",
      "  has_small_values = ((abs_vals < 10 ** (-self.digits)) & (abs_vals > 0)).any()\n",
      "/usr/local/lib/python3.11/dist-packages/pandas/io/formats/format.py:1459: RuntimeWarning: invalid value encountered in greater\n",
      "  has_small_values = ((abs_vals < 10 ** (-self.digits)) & (abs_vals > 0)).any()\n",
      "/usr/local/lib/python3.11/dist-packages/pandas/io/formats/format.py:1458: RuntimeWarning: invalid value encountered in greater\n",
      "  has_large_values = (abs_vals > 1e6).any()\n",
      "/usr/local/lib/python3.11/dist-packages/pandas/io/formats/format.py:1459: RuntimeWarning: invalid value encountered in less\n",
      "  has_small_values = ((abs_vals < 10 ** (-self.digits)) & (abs_vals > 0)).any()\n",
      "/usr/local/lib/python3.11/dist-packages/pandas/io/formats/format.py:1459: RuntimeWarning: invalid value encountered in greater\n",
      "  has_small_values = ((abs_vals < 10 ** (-self.digits)) & (abs_vals > 0)).any()\n"
     ]
    },
    {
     "data": {
      "text/html": [
       "<div>\n",
       "<style scoped>\n",
       "    .dataframe tbody tr th:only-of-type {\n",
       "        vertical-align: middle;\n",
       "    }\n",
       "\n",
       "    .dataframe tbody tr th {\n",
       "        vertical-align: top;\n",
       "    }\n",
       "\n",
       "    .dataframe thead th {\n",
       "        text-align: right;\n",
       "    }\n",
       "</style>\n",
       "<table border=\"1\" class=\"dataframe\">\n",
       "  <thead>\n",
       "    <tr style=\"text-align: right;\">\n",
       "      <th></th>\n",
       "      <th>TransactionID</th>\n",
       "      <th>id_01</th>\n",
       "      <th>id_02</th>\n",
       "      <th>id_03</th>\n",
       "      <th>id_04</th>\n",
       "      <th>id_05</th>\n",
       "      <th>id_06</th>\n",
       "      <th>id_07</th>\n",
       "      <th>id_08</th>\n",
       "      <th>id_09</th>\n",
       "      <th>...</th>\n",
       "      <th>id_31</th>\n",
       "      <th>id_32</th>\n",
       "      <th>id_33</th>\n",
       "      <th>id_34</th>\n",
       "      <th>id_35</th>\n",
       "      <th>id_36</th>\n",
       "      <th>id_37</th>\n",
       "      <th>id_38</th>\n",
       "      <th>DeviceType</th>\n",
       "      <th>DeviceInfo</th>\n",
       "    </tr>\n",
       "  </thead>\n",
       "  <tbody>\n",
       "    <tr>\n",
       "      <th>0</th>\n",
       "      <td>2987004</td>\n",
       "      <td>0.0</td>\n",
       "      <td>70787.0</td>\n",
       "      <td>NaN</td>\n",
       "      <td>NaN</td>\n",
       "      <td>NaN</td>\n",
       "      <td>NaN</td>\n",
       "      <td>NaN</td>\n",
       "      <td>NaN</td>\n",
       "      <td>NaN</td>\n",
       "      <td>...</td>\n",
       "      <td>samsung browser 6.2</td>\n",
       "      <td>32.0</td>\n",
       "      <td>2220x1080</td>\n",
       "      <td>match_status:2</td>\n",
       "      <td>T</td>\n",
       "      <td>F</td>\n",
       "      <td>T</td>\n",
       "      <td>T</td>\n",
       "      <td>mobile</td>\n",
       "      <td>SAMSUNG SM-G892A Build/NRD90M</td>\n",
       "    </tr>\n",
       "    <tr>\n",
       "      <th>1</th>\n",
       "      <td>2987008</td>\n",
       "      <td>-5.0</td>\n",
       "      <td>98945.0</td>\n",
       "      <td>NaN</td>\n",
       "      <td>NaN</td>\n",
       "      <td>0.0</td>\n",
       "      <td>-5.0</td>\n",
       "      <td>NaN</td>\n",
       "      <td>NaN</td>\n",
       "      <td>NaN</td>\n",
       "      <td>...</td>\n",
       "      <td>mobile safari 11.0</td>\n",
       "      <td>32.0</td>\n",
       "      <td>1334x750</td>\n",
       "      <td>match_status:1</td>\n",
       "      <td>T</td>\n",
       "      <td>F</td>\n",
       "      <td>F</td>\n",
       "      <td>T</td>\n",
       "      <td>mobile</td>\n",
       "      <td>iOS Device</td>\n",
       "    </tr>\n",
       "    <tr>\n",
       "      <th>2</th>\n",
       "      <td>2987010</td>\n",
       "      <td>-5.0</td>\n",
       "      <td>191631.0</td>\n",
       "      <td>0.0</td>\n",
       "      <td>0.0</td>\n",
       "      <td>0.0</td>\n",
       "      <td>0.0</td>\n",
       "      <td>NaN</td>\n",
       "      <td>NaN</td>\n",
       "      <td>0.0</td>\n",
       "      <td>...</td>\n",
       "      <td>chrome 62.0</td>\n",
       "      <td>NaN</td>\n",
       "      <td>NaN</td>\n",
       "      <td>NaN</td>\n",
       "      <td>F</td>\n",
       "      <td>F</td>\n",
       "      <td>T</td>\n",
       "      <td>T</td>\n",
       "      <td>desktop</td>\n",
       "      <td>Windows</td>\n",
       "    </tr>\n",
       "    <tr>\n",
       "      <th>3</th>\n",
       "      <td>2987011</td>\n",
       "      <td>-5.0</td>\n",
       "      <td>221832.0</td>\n",
       "      <td>NaN</td>\n",
       "      <td>NaN</td>\n",
       "      <td>0.0</td>\n",
       "      <td>-6.0</td>\n",
       "      <td>NaN</td>\n",
       "      <td>NaN</td>\n",
       "      <td>NaN</td>\n",
       "      <td>...</td>\n",
       "      <td>chrome 62.0</td>\n",
       "      <td>NaN</td>\n",
       "      <td>NaN</td>\n",
       "      <td>NaN</td>\n",
       "      <td>F</td>\n",
       "      <td>F</td>\n",
       "      <td>T</td>\n",
       "      <td>T</td>\n",
       "      <td>desktop</td>\n",
       "      <td>NaN</td>\n",
       "    </tr>\n",
       "    <tr>\n",
       "      <th>4</th>\n",
       "      <td>2987016</td>\n",
       "      <td>0.0</td>\n",
       "      <td>7460.0</td>\n",
       "      <td>0.0</td>\n",
       "      <td>0.0</td>\n",
       "      <td>1.0</td>\n",
       "      <td>0.0</td>\n",
       "      <td>NaN</td>\n",
       "      <td>NaN</td>\n",
       "      <td>0.0</td>\n",
       "      <td>...</td>\n",
       "      <td>chrome 62.0</td>\n",
       "      <td>24.0</td>\n",
       "      <td>1280x800</td>\n",
       "      <td>match_status:2</td>\n",
       "      <td>T</td>\n",
       "      <td>F</td>\n",
       "      <td>T</td>\n",
       "      <td>T</td>\n",
       "      <td>desktop</td>\n",
       "      <td>MacOS</td>\n",
       "    </tr>\n",
       "  </tbody>\n",
       "</table>\n",
       "<p>5 rows × 41 columns</p>\n",
       "</div>"
      ],
      "text/plain": [
       "   TransactionID  id_01     id_02  id_03  id_04  id_05  id_06  id_07  id_08  \\\n",
       "0        2987004    0.0   70787.0    NaN    NaN    NaN    NaN    NaN    NaN   \n",
       "1        2987008   -5.0   98945.0    NaN    NaN    0.0   -5.0    NaN    NaN   \n",
       "2        2987010   -5.0  191631.0    0.0    0.0    0.0    0.0    NaN    NaN   \n",
       "3        2987011   -5.0  221832.0    NaN    NaN    0.0   -6.0    NaN    NaN   \n",
       "4        2987016    0.0    7460.0    0.0    0.0    1.0    0.0    NaN    NaN   \n",
       "\n",
       "   id_09  ...                id_31  id_32      id_33           id_34  id_35  \\\n",
       "0    NaN  ...  samsung browser 6.2   32.0  2220x1080  match_status:2      T   \n",
       "1    NaN  ...   mobile safari 11.0   32.0   1334x750  match_status:1      T   \n",
       "2    0.0  ...          chrome 62.0    NaN        NaN             NaN      F   \n",
       "3    NaN  ...          chrome 62.0    NaN        NaN             NaN      F   \n",
       "4    0.0  ...          chrome 62.0   24.0   1280x800  match_status:2      T   \n",
       "\n",
       "  id_36 id_37  id_38  DeviceType                     DeviceInfo  \n",
       "0     F     T      T      mobile  SAMSUNG SM-G892A Build/NRD90M  \n",
       "1     F     F      T      mobile                     iOS Device  \n",
       "2     F     T      T     desktop                        Windows  \n",
       "3     F     T      T     desktop                            NaN  \n",
       "4     F     T      T     desktop                          MacOS  \n",
       "\n",
       "[5 rows x 41 columns]"
      ]
     },
     "execution_count": 7,
     "metadata": {},
     "output_type": "execute_result"
    }
   ],
   "source": [
    "identity_df.head()"
   ]
  },
  {
   "cell_type": "code",
   "execution_count": 8,
   "id": "3509c45c",
   "metadata": {
    "execution": {
     "iopub.execute_input": "2025-04-19T12:30:39.189336Z",
     "iopub.status.busy": "2025-04-19T12:30:39.188882Z",
     "iopub.status.idle": "2025-04-19T12:30:39.342112Z",
     "shell.execute_reply": "2025-04-19T12:30:39.340947Z"
    },
    "papermill": {
     "duration": 0.176893,
     "end_time": "2025-04-19T12:30:39.343951",
     "exception": false,
     "start_time": "2025-04-19T12:30:39.167058",
     "status": "completed"
    },
    "tags": []
   },
   "outputs": [],
   "source": [
    "# Calculate the percentage of missing values\n",
    "missing_percentage = (identity_df.isnull().sum() / len(identity_df)) * 100\n",
    "missing_percentage = missing_percentage.sort_values(ascending=False)"
   ]
  },
  {
   "cell_type": "code",
   "execution_count": 9,
   "id": "9a34171c",
   "metadata": {
    "execution": {
     "iopub.execute_input": "2025-04-19T12:30:39.372871Z",
     "iopub.status.busy": "2025-04-19T12:30:39.372437Z",
     "iopub.status.idle": "2025-04-19T12:30:39.382747Z",
     "shell.execute_reply": "2025-04-19T12:30:39.381674Z"
    },
    "papermill": {
     "duration": 0.029804,
     "end_time": "2025-04-19T12:30:39.385607",
     "exception": false,
     "start_time": "2025-04-19T12:30:39.355803",
     "status": "completed"
    },
    "tags": []
   },
   "outputs": [
    {
     "name": "stdout",
     "output_type": "stream",
     "text": [
      "\n",
      "Columns with more than 20% missing values in Identity Table:\n",
      "id_24         96.708798\n",
      "id_25         96.441868\n",
      "id_07         96.425922\n",
      "id_08         96.425922\n",
      "id_21         96.423149\n",
      "id_26         96.420375\n",
      "id_23         96.416215\n",
      "id_27         96.416215\n",
      "id_22         96.416215\n",
      "id_18         68.722137\n",
      "id_03         54.016071\n",
      "id_04         54.016071\n",
      "id_33         49.187079\n",
      "id_09         48.052110\n",
      "id_10         48.052110\n",
      "id_30         46.222432\n",
      "id_32         46.207872\n",
      "id_34         46.056034\n",
      "id_14         44.503685\n",
      "DeviceInfo    17.726179\n",
      "id_13         11.726165\n",
      "id_16         10.325654\n",
      "id_06          5.108401\n",
      "id_05          5.108401\n",
      "id_20          3.447200\n",
      "id_19          3.407681\n",
      "id_17          3.372321\n",
      "id_31          2.739318\n",
      "DeviceType     2.373243\n",
      "id_02          2.330257\n",
      "id_28          2.256765\n",
      "id_29          2.256765\n",
      "id_11          2.256765\n",
      "id_15          2.251912\n",
      "id_35          2.251912\n",
      "id_36          2.251912\n",
      "id_37          2.251912\n",
      "id_38          2.251912\n",
      "dtype: float64\n"
     ]
    }
   ],
   "source": [
    "# Display columns with more than 20% missing values\n",
    "print(\"\\nColumns with more than 20% missing values in Identity Table:\")\n",
    "cols_to_print = missing_percentage[missing_percentage > 0]\n",
    "if len(cols_to_print) > 0:\n",
    "  print(cols_to_print)\n",
    "else:\n",
    "  print(\"No columns with more than 10% missing values\")"
   ]
  },
  {
   "cell_type": "markdown",
   "id": "472a12ec",
   "metadata": {
    "papermill": {
     "duration": 0.013889,
     "end_time": "2025-04-19T12:30:39.418182",
     "exception": false,
     "start_time": "2025-04-19T12:30:39.404293",
     "status": "completed"
    },
    "tags": []
   },
   "source": [
    "# Explore Transaction Table"
   ]
  },
  {
   "cell_type": "code",
   "execution_count": 10,
   "id": "1f7df45d",
   "metadata": {
    "execution": {
     "iopub.execute_input": "2025-04-19T12:30:39.443446Z",
     "iopub.status.busy": "2025-04-19T12:30:39.443018Z",
     "iopub.status.idle": "2025-04-19T12:30:40.918815Z",
     "shell.execute_reply": "2025-04-19T12:30:40.917625Z"
    },
    "papermill": {
     "duration": 1.490564,
     "end_time": "2025-04-19T12:30:40.920529",
     "exception": false,
     "start_time": "2025-04-19T12:30:39.429965",
     "status": "completed"
    },
    "tags": []
   },
   "outputs": [
    {
     "name": "stdout",
     "output_type": "stream",
     "text": [
      "\n",
      "Transaction Table Exploration:\n",
      "Number of rows: 590540\n",
      "Shape of the DataFrame: (590540, 394)\n",
      "\n",
      "Missing values per column:\n",
      "dist2            552913\n",
      "D7               551623\n",
      "D13              528588\n",
      "D14              528353\n",
      "D12              525823\n",
      "                  ...  \n",
      "C1                    0\n",
      "C2                    0\n",
      "C14                   0\n",
      "isFraud               0\n",
      "TransactionID         0\n",
      "Length: 394, dtype: int64\n"
     ]
    }
   ],
   "source": [
    "print(\"\\nTransaction Table Exploration:\")\n",
    "print(f\"Number of rows: {len(transaction_df)}\")\n",
    "print(f\"Shape of the DataFrame: {transaction_df.shape}\")\n",
    "print(\"\\nMissing values per column:\")\n",
    "print(transaction_df.isnull().sum().sort_values(ascending=False))"
   ]
  },
  {
   "cell_type": "code",
   "execution_count": 11,
   "id": "d2d1b718",
   "metadata": {
    "execution": {
     "iopub.execute_input": "2025-04-19T12:30:41.018542Z",
     "iopub.status.busy": "2025-04-19T12:30:41.018143Z",
     "iopub.status.idle": "2025-04-19T12:30:42.459209Z",
     "shell.execute_reply": "2025-04-19T12:30:42.458338Z"
    },
    "papermill": {
     "duration": 1.52776,
     "end_time": "2025-04-19T12:30:42.460974",
     "exception": false,
     "start_time": "2025-04-19T12:30:40.933214",
     "status": "completed"
    },
    "tags": []
   },
   "outputs": [],
   "source": [
    "# Calculate the percentage of missing values\n",
    "missing_percentage = (transaction_df.isnull().sum() / len(transaction_df)) * 100\n",
    "missing_percentage = missing_percentage.sort_values(ascending=False)"
   ]
  },
  {
   "cell_type": "code",
   "execution_count": 12,
   "id": "5742476a",
   "metadata": {
    "execution": {
     "iopub.execute_input": "2025-04-19T12:30:42.486730Z",
     "iopub.status.busy": "2025-04-19T12:30:42.485791Z",
     "iopub.status.idle": "2025-04-19T12:30:42.493604Z",
     "shell.execute_reply": "2025-04-19T12:30:42.492534Z"
    },
    "papermill": {
     "duration": 0.022092,
     "end_time": "2025-04-19T12:30:42.495040",
     "exception": false,
     "start_time": "2025-04-19T12:30:42.472948",
     "status": "completed"
    },
    "tags": []
   },
   "outputs": [
    {
     "name": "stdout",
     "output_type": "stream",
     "text": [
      "\n",
      "Columns with more than 60% missing values in Transaction Table:\n",
      "dist2    93.628374\n",
      "D7       93.409930\n",
      "D13      89.509263\n",
      "D14      89.469469\n",
      "D12      89.041047\n",
      "           ...    \n",
      "V239     76.053104\n",
      "V238     76.053104\n",
      "V234     76.053104\n",
      "V227     76.053104\n",
      "V222     76.053104\n",
      "Length: 168, dtype: float64\n"
     ]
    }
   ],
   "source": [
    "# Display columns with more than 60% missing values\n",
    "print(\"\\nColumns with more than 60% missing values in Transaction Table:\")\n",
    "cols_to_print = missing_percentage[missing_percentage > 60]\n",
    "if len(cols_to_print) > 0:\n",
    "  print(cols_to_print)\n",
    "else:\n",
    "  print(\"No columns with more than 60% missing values\")"
   ]
  },
  {
   "cell_type": "code",
   "execution_count": 13,
   "id": "b6743c12",
   "metadata": {
    "execution": {
     "iopub.execute_input": "2025-04-19T12:30:42.521445Z",
     "iopub.status.busy": "2025-04-19T12:30:42.521050Z",
     "iopub.status.idle": "2025-04-19T12:30:42.562393Z",
     "shell.execute_reply": "2025-04-19T12:30:42.561065Z"
    },
    "papermill": {
     "duration": 0.056588,
     "end_time": "2025-04-19T12:30:42.563868",
     "exception": false,
     "start_time": "2025-04-19T12:30:42.507280",
     "status": "completed"
    },
    "tags": []
   },
   "outputs": [
    {
     "name": "stdout",
     "output_type": "stream",
     "text": [
      "\n",
      "TransactionID Uniqueness Check:\n",
      "Number of unique TransactionIDs in identity_df: 144233\n",
      "Number of unique TransactionIDs in transaction_df: 590540\n",
      "Number of rows in identity_df: 144233\n",
      "Number of rows in transaction_df: 590540\n"
     ]
    }
   ],
   "source": [
    "# --- Check for TransactionID uniqueness ---\n",
    "print(\"\\nTransactionID Uniqueness Check:\")\n",
    "print(f\"Number of unique TransactionIDs in identity_df: {identity_df['TransactionID'].nunique()}\")\n",
    "print(f\"Number of unique TransactionIDs in transaction_df: {transaction_df['TransactionID'].nunique()}\")\n",
    "print(f\"Number of rows in identity_df: {len(identity_df)}\")\n",
    "print(f\"Number of rows in transaction_df: {len(transaction_df)}\")\n"
   ]
  },
  {
   "cell_type": "code",
   "execution_count": 14,
   "id": "03f1da5f",
   "metadata": {
    "execution": {
     "iopub.execute_input": "2025-04-19T12:30:42.590469Z",
     "iopub.status.busy": "2025-04-19T12:30:42.589612Z",
     "iopub.status.idle": "2025-04-19T12:30:42.724935Z",
     "shell.execute_reply": "2025-04-19T12:30:42.723984Z"
    },
    "papermill": {
     "duration": 0.150233,
     "end_time": "2025-04-19T12:30:42.726359",
     "exception": false,
     "start_time": "2025-04-19T12:30:42.576126",
     "status": "completed"
    },
    "tags": []
   },
   "outputs": [
    {
     "name": "stdout",
     "output_type": "stream",
     "text": [
      "\n",
      "All TransactionIDs in identity_df are present in transaction_df\n",
      "Number of TransactionIDs in transaction_df but not in identity_df: 446307\n"
     ]
    }
   ],
   "source": [
    "# Check if all TransactionIDs in identity_df are in transaction_df\n",
    "identity_ids = set(identity_df['TransactionID'])\n",
    "transaction_ids = set(transaction_df['TransactionID'])\n",
    "not_in_transaction = identity_ids - transaction_ids\n",
    "not_in_identity = transaction_ids - identity_ids\n",
    "if len(not_in_transaction) > 0:\n",
    "    print(f\"\\nNumber of TransactionIDs in identity_df but not in transaction_df: {len(not_in_transaction)}\")\n",
    "    if (len(not_in_transaction) < 20):\n",
    "        print(f\"Example IDs: {list(not_in_transaction)[:5]}\")  # Print only a few if there are many\n",
    "else:\n",
    "    print(\"\\nAll TransactionIDs in identity_df are present in transaction_df\")\n",
    "\n",
    "if len(not_in_identity) > 0:\n",
    "    print(f\"Number of TransactionIDs in transaction_df but not in identity_df: {len(not_in_identity)}\")\n",
    "    if (len(not_in_identity) < 20):\n",
    "        print(f\"Example IDs: {list(not_in_identity)[:5]}\")\n",
    "else:\n",
    "    print(\"All TransactionIDs in transaction_df are present in identity_df\")"
   ]
  },
  {
   "cell_type": "markdown",
   "id": "1edd3820",
   "metadata": {
    "papermill": {
     "duration": 0.011766,
     "end_time": "2025-04-19T12:30:42.750331",
     "exception": false,
     "start_time": "2025-04-19T12:30:42.738565",
     "status": "completed"
    },
    "tags": []
   },
   "source": [
    "# Do Cleaning"
   ]
  },
  {
   "cell_type": "markdown",
   "id": "83a10547",
   "metadata": {
    "papermill": {
     "duration": 0.012326,
     "end_time": "2025-04-19T12:30:42.774657",
     "exception": false,
     "start_time": "2025-04-19T12:30:42.762331",
     "status": "completed"
    },
    "tags": []
   },
   "source": [
    "### Filter High NaNs Separately"
   ]
  },
  {
   "cell_type": "code",
   "execution_count": 15,
   "id": "e6b07e6b",
   "metadata": {
    "execution": {
     "iopub.execute_input": "2025-04-19T12:30:42.800381Z",
     "iopub.status.busy": "2025-04-19T12:30:42.800019Z",
     "iopub.status.idle": "2025-04-19T12:30:44.956412Z",
     "shell.execute_reply": "2025-04-19T12:30:44.955500Z"
    },
    "papermill": {
     "duration": 2.171419,
     "end_time": "2025-04-19T12:30:44.958036",
     "exception": false,
     "start_time": "2025-04-19T12:30:42.786617",
     "status": "completed"
    },
    "tags": []
   },
   "outputs": [],
   "source": [
    "from sklearn.model_selection import train_test_split\n",
    "from sklearn.pipeline import Pipeline\n",
    "from sklearn.compose import ColumnTransformer\n",
    "from sklearn.impute import SimpleImputer\n",
    "from sklearn.preprocessing import OneHotEncoder\n",
    "from category_encoders import WOEEncoder\n",
    "from sklearn.base import BaseEstimator, TransformerMixin\n",
    "import time\n",
    "import os\n"
   ]
  },
  {
   "cell_type": "code",
   "execution_count": 16,
   "id": "57689a7b",
   "metadata": {
    "execution": {
     "iopub.execute_input": "2025-04-19T12:30:44.984158Z",
     "iopub.status.busy": "2025-04-19T12:30:44.983577Z",
     "iopub.status.idle": "2025-04-19T12:30:44.988585Z",
     "shell.execute_reply": "2025-04-19T12:30:44.987684Z"
    },
    "papermill": {
     "duration": 0.019556,
     "end_time": "2025-04-19T12:30:44.990071",
     "exception": false,
     "start_time": "2025-04-19T12:30:44.970515",
     "status": "completed"
    },
    "tags": []
   },
   "outputs": [],
   "source": [
    "if mlflow_active:\n",
    "    mlflow.start_run(run_name=f\"preprocessing_pipeline_{time.strftime('%Y%m%d_%H%M%S')}\")\n",
    "    print(\"MLflow run started.\")"
   ]
  },
  {
   "cell_type": "code",
   "execution_count": 17,
   "id": "93b62d20",
   "metadata": {
    "execution": {
     "iopub.execute_input": "2025-04-19T12:30:45.015783Z",
     "iopub.status.busy": "2025-04-19T12:30:45.015484Z",
     "iopub.status.idle": "2025-04-19T12:30:45.022255Z",
     "shell.execute_reply": "2025-04-19T12:30:45.021397Z"
    },
    "papermill": {
     "duration": 0.021522,
     "end_time": "2025-04-19T12:30:45.023884",
     "exception": false,
     "start_time": "2025-04-19T12:30:45.002362",
     "status": "completed"
    },
    "tags": []
   },
   "outputs": [],
   "source": [
    "class HighNARemover(BaseEstimator, TransformerMixin):\n",
    "    def __init__(self, threshold):\n",
    "        self.threshold = threshold\n",
    "        self.columns_to_drop = None\n",
    "        \n",
    "    def fit(self, X, y=None):\n",
    "        # Calculate percentage of missing values for each column\n",
    "        na_percentage = X.isna().mean()\n",
    "        # Identify columns with missing values above threshold\n",
    "        self.columns_to_drop = na_percentage[na_percentage > self.threshold].index.tolist()\n",
    "        return self\n",
    "    \n",
    "    def transform(self, X):\n",
    "        # Drop columns with high missing values\n",
    "        return X.drop(columns=self.columns_to_drop, errors='ignore')\n",
    "    \n",
    "    def get_feature_names_out(self, input_features=None):\n",
    "        if input_features is None:\n",
    "            return []\n",
    "        return [f for f in input_features if f not in self.columns_to_drop]"
   ]
  },
  {
   "cell_type": "code",
   "execution_count": 18,
   "id": "34ef2cbf",
   "metadata": {
    "execution": {
     "iopub.execute_input": "2025-04-19T12:30:45.049173Z",
     "iopub.status.busy": "2025-04-19T12:30:45.048826Z",
     "iopub.status.idle": "2025-04-19T12:30:47.047610Z",
     "shell.execute_reply": "2025-04-19T12:30:47.046102Z"
    },
    "papermill": {
     "duration": 2.013507,
     "end_time": "2025-04-19T12:30:47.049480",
     "exception": false,
     "start_time": "2025-04-19T12:30:45.035973",
     "status": "completed"
    },
    "tags": []
   },
   "outputs": [],
   "source": [
    "# First, remove high NA columns from both datasets\n",
    "identity_na_remover = HighNARemover(threshold=0.2)\n",
    "transaction_na_remover = HighNARemover(threshold=0.6)\n",
    "\n",
    "# Fit and transform to remove high NA columns\n",
    "identity_df_filtered = identity_na_remover.fit_transform(identity_df)\n",
    "transaction_df_filtered = transaction_na_remover.fit_transform(transaction_df)"
   ]
  },
  {
   "cell_type": "code",
   "execution_count": 19,
   "id": "d21ad047",
   "metadata": {
    "execution": {
     "iopub.execute_input": "2025-04-19T12:30:47.077078Z",
     "iopub.status.busy": "2025-04-19T12:30:47.076750Z",
     "iopub.status.idle": "2025-04-19T12:30:47.082841Z",
     "shell.execute_reply": "2025-04-19T12:30:47.081650Z"
    },
    "papermill": {
     "duration": 0.022346,
     "end_time": "2025-04-19T12:30:47.084562",
     "exception": false,
     "start_time": "2025-04-19T12:30:47.062216",
     "status": "completed"
    },
    "tags": []
   },
   "outputs": [
    {
     "name": "stdout",
     "output_type": "stream",
     "text": [
      "\n",
      "--- After Removing High NA Columns ---\n",
      "Identity filtered shape: (144233, 22)\n",
      "Transaction filtered shape: (590540, 226)\n",
      "Columns dropped from identity: 19\n",
      "Columns dropped from transaction: 168\n"
     ]
    }
   ],
   "source": [
    "print(\"\\n--- After Removing High NA Columns ---\")\n",
    "print(f\"Identity filtered shape: {identity_df_filtered.shape}\")\n",
    "print(f\"Transaction filtered shape: {transaction_df_filtered.shape}\")\n",
    "print(f\"Columns dropped from identity: {len(identity_na_remover.columns_to_drop)}\")\n",
    "print(f\"Columns dropped from transaction: {len(transaction_na_remover.columns_to_drop)}\")\n"
   ]
  },
  {
   "cell_type": "code",
   "execution_count": 20,
   "id": "7af2b2c7",
   "metadata": {
    "execution": {
     "iopub.execute_input": "2025-04-19T12:30:47.111122Z",
     "iopub.status.busy": "2025-04-19T12:30:47.110831Z",
     "iopub.status.idle": "2025-04-19T12:30:47.116561Z",
     "shell.execute_reply": "2025-04-19T12:30:47.115569Z"
    },
    "papermill": {
     "duration": 0.020531,
     "end_time": "2025-04-19T12:30:47.118057",
     "exception": false,
     "start_time": "2025-04-19T12:30:47.097526",
     "status": "completed"
    },
    "tags": []
   },
   "outputs": [],
   "source": [
    "# Log NA removal metrics\n",
    "if mlflow_active:\n",
    "    mlflow.log_param(\"identity_na_threshold\", 0.2)\n",
    "    mlflow.log_param(\"transaction_na_threshold\", 0.6)\n",
    "    mlflow.log_param(\"identity_cols_dropped\", len(identity_na_remover.columns_to_drop))\n",
    "    mlflow.log_param(\"transaction_cols_dropped\", len(transaction_na_remover.columns_to_drop))\n",
    "    mlflow.log_param(\"identity_cols_remaining\", identity_df_filtered.shape[1])\n",
    "    mlflow.log_param(\"transaction_cols_remaining\", transaction_df_filtered.shape[1])\n",
    "    \n",
    "    # Log the names of dropped columns\n",
    "    mlflow.log_text(\"\\n\".join(identity_na_remover.columns_to_drop), \"identity_dropped_columns.txt\")\n",
    "    mlflow.log_text(\"\\n\".join(transaction_na_remover.columns_to_drop), \"transaction_dropped_columns.txt\")\n"
   ]
  },
  {
   "cell_type": "code",
   "execution_count": 21,
   "id": "371a0ab8",
   "metadata": {
    "execution": {
     "iopub.execute_input": "2025-04-19T12:30:47.145062Z",
     "iopub.status.busy": "2025-04-19T12:30:47.144705Z",
     "iopub.status.idle": "2025-04-19T12:30:49.335038Z",
     "shell.execute_reply": "2025-04-19T12:30:49.334000Z"
    },
    "papermill": {
     "duration": 2.206365,
     "end_time": "2025-04-19T12:30:49.336911",
     "exception": false,
     "start_time": "2025-04-19T12:30:47.130546",
     "status": "completed"
    },
    "tags": []
   },
   "outputs": [],
   "source": [
    "# Now split the transaction data\n",
    "X_transaction = transaction_df_filtered.drop('isFraud', axis=1)\n",
    "y_transaction = transaction_df_filtered['isFraud']\n",
    "\n",
    "X_transaction_train, X_transaction_test, y_train, y_test = train_test_split(\n",
    "    X_transaction, y_transaction, test_size=0.2, random_state=42, stratify=y_transaction\n",
    ")"
   ]
  },
  {
   "cell_type": "code",
   "execution_count": 22,
   "id": "ab0174e0",
   "metadata": {
    "execution": {
     "iopub.execute_input": "2025-04-19T12:30:49.364620Z",
     "iopub.status.busy": "2025-04-19T12:30:49.364318Z",
     "iopub.status.idle": "2025-04-19T12:30:49.429677Z",
     "shell.execute_reply": "2025-04-19T12:30:49.428685Z"
    },
    "papermill": {
     "duration": 0.080745,
     "end_time": "2025-04-19T12:30:49.431338",
     "exception": false,
     "start_time": "2025-04-19T12:30:49.350593",
     "status": "completed"
    },
    "tags": []
   },
   "outputs": [],
   "source": [
    "# Get the corresponding identity records for train and test sets\n",
    "train_transaction_ids = X_transaction_train['TransactionID'].values\n",
    "test_transaction_ids = X_transaction_test['TransactionID'].values\n",
    "\n",
    "# Filter identity dataframe based on TransactionIDs\n",
    "X_identity_train = identity_df_filtered[identity_df_filtered['TransactionID'].isin(train_transaction_ids)]\n",
    "X_identity_test = identity_df_filtered[identity_df_filtered['TransactionID'].isin(test_transaction_ids)]\n"
   ]
  },
  {
   "cell_type": "code",
   "execution_count": 23,
   "id": "264a2e62",
   "metadata": {
    "execution": {
     "iopub.execute_input": "2025-04-19T12:30:49.457355Z",
     "iopub.status.busy": "2025-04-19T12:30:49.456981Z",
     "iopub.status.idle": "2025-04-19T12:30:50.243137Z",
     "shell.execute_reply": "2025-04-19T12:30:50.242291Z"
    },
    "papermill": {
     "duration": 0.801126,
     "end_time": "2025-04-19T12:30:50.244791",
     "exception": false,
     "start_time": "2025-04-19T12:30:49.443665",
     "status": "completed"
    },
    "tags": []
   },
   "outputs": [],
   "source": [
    "# Create a mapping from TransactionID to target for identity data\n",
    "transaction_id_to_target = dict(zip(transaction_df_filtered['TransactionID'], transaction_df_filtered['isFraud']))\n",
    "y_identity_train = X_identity_train['TransactionID'].map(transaction_id_to_target)\n",
    "y_identity_test = X_identity_test['TransactionID'].map(transaction_id_to_target)\n"
   ]
  },
  {
   "cell_type": "code",
   "execution_count": 24,
   "id": "5f799f8d",
   "metadata": {
    "execution": {
     "iopub.execute_input": "2025-04-19T12:30:50.272061Z",
     "iopub.status.busy": "2025-04-19T12:30:50.271741Z",
     "iopub.status.idle": "2025-04-19T12:30:50.285631Z",
     "shell.execute_reply": "2025-04-19T12:30:50.284664Z"
    },
    "papermill": {
     "duration": 0.02943,
     "end_time": "2025-04-19T12:30:50.287022",
     "exception": false,
     "start_time": "2025-04-19T12:30:50.257592",
     "status": "completed"
    },
    "tags": []
   },
   "outputs": [
    {
     "name": "stdout",
     "output_type": "stream",
     "text": [
      "\n",
      "--- Train-Test Split Information ---\n",
      "Transaction train set shape: (472432, 225)\n",
      "Transaction test set shape: (118108, 225)\n",
      "Identity train set shape: (115658, 22)\n",
      "Identity test shape: (28575, 22)\n",
      "Transaction target train distribution: \n",
      "isFraud\n",
      "0    0.965011\n",
      "1    0.034989\n",
      "Name: proportion, dtype: float64\n",
      "Identity target train distribution: \n",
      "TransactionID\n",
      "0    0.921908\n",
      "1    0.078092\n",
      "Name: proportion, dtype: float64\n"
     ]
    }
   ],
   "source": [
    "print(\"\\n--- Train-Test Split Information ---\")\n",
    "print(f\"Transaction train set shape: {X_transaction_train.shape}\")\n",
    "print(f\"Transaction test set shape: {X_transaction_test.shape}\")\n",
    "print(f\"Identity train set shape: {X_identity_train.shape}\")\n",
    "print(f\"Identity test shape: {X_identity_test.shape}\")\n",
    "print(f\"Transaction target train distribution: \\n{y_train.value_counts(normalize=True)}\")\n",
    "print(f\"Identity target train distribution: \\n{y_identity_train.value_counts(normalize=True)}\")\n"
   ]
  },
  {
   "cell_type": "code",
   "execution_count": 25,
   "id": "6ea3d720",
   "metadata": {
    "execution": {
     "iopub.execute_input": "2025-04-19T12:30:50.313552Z",
     "iopub.status.busy": "2025-04-19T12:30:50.312858Z",
     "iopub.status.idle": "2025-04-19T12:30:50.318824Z",
     "shell.execute_reply": "2025-04-19T12:30:50.317854Z"
    },
    "papermill": {
     "duration": 0.021044,
     "end_time": "2025-04-19T12:30:50.320629",
     "exception": false,
     "start_time": "2025-04-19T12:30:50.299585",
     "status": "completed"
    },
    "tags": []
   },
   "outputs": [],
   "source": [
    "# Log train-test split metrics\n",
    "if mlflow_active:\n",
    "    mlflow.log_param(\"test_size\", 0.2)\n",
    "    mlflow.log_param(\"random_state\", 42)\n",
    "    mlflow.log_param(\"transaction_train_rows\", X_transaction_train.shape[0])\n",
    "    mlflow.log_param(\"transaction_test_rows\", X_transaction_test.shape[0])\n",
    "    mlflow.log_param(\"identity_train_rows\", X_identity_train.shape[0])\n",
    "    mlflow.log_param(\"identity_test_rows\", X_identity_test.shape[0])\n",
    "    mlflow.log_param(\"train_fraud_rate\", float(y_train.mean()))\n",
    "    mlflow.log_param(\"test_fraud_rate\", float(y_test.mean()))\n"
   ]
  },
  {
   "cell_type": "code",
   "execution_count": 26,
   "id": "3f917cc9",
   "metadata": {
    "execution": {
     "iopub.execute_input": "2025-04-19T12:30:50.346619Z",
     "iopub.status.busy": "2025-04-19T12:30:50.346281Z",
     "iopub.status.idle": "2025-04-19T12:30:50.353046Z",
     "shell.execute_reply": "2025-04-19T12:30:50.351984Z"
    },
    "papermill": {
     "duration": 0.021562,
     "end_time": "2025-04-19T12:30:50.354661",
     "exception": false,
     "start_time": "2025-04-19T12:30:50.333099",
     "status": "completed"
    },
    "tags": []
   },
   "outputs": [],
   "source": [
    "# Function to categorize columns\n",
    "def categorize_columns(df):\n",
    "    # Identify numeric and categorical columns\n",
    "    numeric_cols = df.select_dtypes(include=['int64', 'float64']).columns.tolist()\n",
    "    categorical_cols = df.select_dtypes(include=['object', 'category']).columns.tolist()\n",
    "    \n",
    "    # For categorical columns, separate those with ≤4 unique values and >4 unique values\n",
    "    categorical_low_cardinality = []\n",
    "    categorical_high_cardinality = []\n",
    "    \n",
    "    for col in categorical_cols:\n",
    "        if df[col].nunique() <= 4:\n",
    "            categorical_low_cardinality.append(col)\n",
    "        else:\n",
    "            categorical_high_cardinality.append(col)\n",
    "    \n",
    "    # Remove 'TransactionID' from numeric columns if present\n",
    "    if 'TransactionID' in numeric_cols:\n",
    "        numeric_cols.remove('TransactionID')\n",
    "    \n",
    "    return numeric_cols, categorical_low_cardinality, categorical_high_cardinality\n"
   ]
  },
  {
   "cell_type": "code",
   "execution_count": 27,
   "id": "635eb8ea",
   "metadata": {
    "execution": {
     "iopub.execute_input": "2025-04-19T12:30:50.382242Z",
     "iopub.status.busy": "2025-04-19T12:30:50.381847Z",
     "iopub.status.idle": "2025-04-19T12:30:51.009123Z",
     "shell.execute_reply": "2025-04-19T12:30:51.008279Z"
    },
    "papermill": {
     "duration": 0.643775,
     "end_time": "2025-04-19T12:30:51.010768",
     "exception": false,
     "start_time": "2025-04-19T12:30:50.366993",
     "status": "completed"
    },
    "tags": []
   },
   "outputs": [],
   "source": [
    "# Now categorize columns\n",
    "identity_numeric_cols, identity_cat_low, identity_cat_high = categorize_columns(X_identity_train)\n",
    "transaction_numeric_cols, transaction_cat_low, transaction_cat_high = categorize_columns(X_transaction_train)\n"
   ]
  },
  {
   "cell_type": "code",
   "execution_count": 28,
   "id": "dffdc16c",
   "metadata": {
    "execution": {
     "iopub.execute_input": "2025-04-19T12:30:51.037104Z",
     "iopub.status.busy": "2025-04-19T12:30:51.036141Z",
     "iopub.status.idle": "2025-04-19T12:30:51.042329Z",
     "shell.execute_reply": "2025-04-19T12:30:51.041273Z"
    },
    "papermill": {
     "duration": 0.020679,
     "end_time": "2025-04-19T12:30:51.043855",
     "exception": false,
     "start_time": "2025-04-19T12:30:51.023176",
     "status": "completed"
    },
    "tags": []
   },
   "outputs": [
    {
     "name": "stdout",
     "output_type": "stream",
     "text": [
      "\n",
      "--- Column Categorization ---\n",
      "Identity numeric columns: 9\n",
      "Identity low cardinality categorical columns: 10\n",
      "Identity high cardinality categorical columns: 2\n",
      "Transaction numeric columns: 211\n",
      "Transaction low cardinality categorical columns: 11\n",
      "Transaction high cardinality categorical columns: 2\n"
     ]
    }
   ],
   "source": [
    "print(\"\\n--- Column Categorization ---\")\n",
    "print(f\"Identity numeric columns: {len(identity_numeric_cols)}\")\n",
    "print(f\"Identity low cardinality categorical columns: {len(identity_cat_low)}\")\n",
    "print(f\"Identity high cardinality categorical columns: {len(identity_cat_high)}\")\n",
    "print(f\"Transaction numeric columns: {len(transaction_numeric_cols)}\")\n",
    "print(f\"Transaction low cardinality categorical columns: {len(transaction_cat_low)}\")\n",
    "print(f\"Transaction high cardinality categorical columns: {len(transaction_cat_high)}\")\n"
   ]
  },
  {
   "cell_type": "code",
   "execution_count": 29,
   "id": "a8e99df9",
   "metadata": {
    "execution": {
     "iopub.execute_input": "2025-04-19T12:30:51.070349Z",
     "iopub.status.busy": "2025-04-19T12:30:51.070008Z",
     "iopub.status.idle": "2025-04-19T12:30:51.076688Z",
     "shell.execute_reply": "2025-04-19T12:30:51.075774Z"
    },
    "papermill": {
     "duration": 0.021912,
     "end_time": "2025-04-19T12:30:51.078479",
     "exception": false,
     "start_time": "2025-04-19T12:30:51.056567",
     "status": "completed"
    },
    "tags": []
   },
   "outputs": [],
   "source": [
    "if mlflow_active:\n",
    "    mlflow.log_param(\"identity_numeric_cols\", len(identity_numeric_cols))\n",
    "    mlflow.log_param(\"identity_cat_low_cols\", len(identity_cat_low))\n",
    "    mlflow.log_param(\"identity_cat_high_cols\", len(identity_cat_high))\n",
    "    mlflow.log_param(\"transaction_numeric_cols\", len(transaction_numeric_cols))\n",
    "    mlflow.log_param(\"transaction_cat_low_cols\", len(transaction_cat_low))\n",
    "    mlflow.log_param(\"transaction_cat_high_cols\", len(transaction_cat_high))\n",
    "    \n",
    "    # Log column names by category\n",
    "    mlflow.log_text(\"\\n\".join(identity_numeric_cols), \"identity_numeric_columns.txt\")\n",
    "    mlflow.log_text(\"\\n\".join(identity_cat_low), \"identity_cat_low_columns.txt\")\n",
    "    mlflow.log_text(\"\\n\".join(identity_cat_high), \"identity_cat_high_columns.txt\")\n",
    "    mlflow.log_text(\"\\n\".join(transaction_numeric_cols), \"transaction_numeric_columns.txt\")\n",
    "    mlflow.log_text(\"\\n\".join(transaction_cat_low), \"transaction_cat_low_columns.txt\")\n",
    "    mlflow.log_text(\"\\n\".join(transaction_cat_high), \"transaction_cat_high_columns.txt\")\n"
   ]
  },
  {
   "cell_type": "code",
   "execution_count": 30,
   "id": "ab506e87",
   "metadata": {
    "execution": {
     "iopub.execute_input": "2025-04-19T12:30:51.104852Z",
     "iopub.status.busy": "2025-04-19T12:30:51.104157Z",
     "iopub.status.idle": "2025-04-19T12:30:51.109528Z",
     "shell.execute_reply": "2025-04-19T12:30:51.108622Z"
    },
    "papermill": {
     "duration": 0.019844,
     "end_time": "2025-04-19T12:30:51.110911",
     "exception": false,
     "start_time": "2025-04-19T12:30:51.091067",
     "status": "completed"
    },
    "tags": []
   },
   "outputs": [],
   "source": [
    "# Create identity preprocessing pipeline\n",
    "identity_preprocessor = Pipeline([\n",
    "    ('column_transformer', ColumnTransformer([\n",
    "        ('num_imputer', Pipeline([\n",
    "            ('imputer', SimpleImputer(strategy='mean'))\n",
    "        ]), identity_numeric_cols),\n",
    "        ('cat_low_encoder', Pipeline([\n",
    "            ('imputer', SimpleImputer(strategy='most_frequent')),\n",
    "            ('onehot', OneHotEncoder(handle_unknown='ignore', sparse_output=False))\n",
    "        ]), identity_cat_low),\n",
    "        ('cat_high_encoder', Pipeline([\n",
    "            ('imputer', SimpleImputer(strategy='most_frequent')),\n",
    "            ('woe', WOEEncoder(handle_missing='return_nan'))\n",
    "        ]), identity_cat_high)\n",
    "    ], remainder='drop'))\n",
    "])"
   ]
  },
  {
   "cell_type": "code",
   "execution_count": 31,
   "id": "9db5a8cf",
   "metadata": {
    "execution": {
     "iopub.execute_input": "2025-04-19T12:30:51.136954Z",
     "iopub.status.busy": "2025-04-19T12:30:51.136606Z",
     "iopub.status.idle": "2025-04-19T12:30:51.144238Z",
     "shell.execute_reply": "2025-04-19T12:30:51.143224Z"
    },
    "papermill": {
     "duration": 0.022854,
     "end_time": "2025-04-19T12:30:51.146101",
     "exception": false,
     "start_time": "2025-04-19T12:30:51.123247",
     "status": "completed"
    },
    "tags": []
   },
   "outputs": [],
   "source": [
    "# Create transaction preprocessing pipeline\n",
    "transaction_preprocessor = Pipeline([\n",
    "    ('column_transformer', ColumnTransformer([\n",
    "        ('num_imputer', Pipeline([\n",
    "            ('imputer', SimpleImputer(strategy='mean'))\n",
    "        ]), transaction_numeric_cols),\n",
    "        ('cat_low_encoder', Pipeline([\n",
    "            ('imputer', SimpleImputer(strategy='most_frequent')),\n",
    "            ('onehot', OneHotEncoder(handle_unknown='ignore', sparse_output=False))\n",
    "        ]), transaction_cat_low),\n",
    "        ('cat_high_encoder', Pipeline([\n",
    "            ('imputer', SimpleImputer(strategy='most_frequent')),\n",
    "            ('woe', WOEEncoder(handle_missing='return_nan'))\n",
    "        ]), transaction_cat_high)\n",
    "    ], remainder='drop'))\n",
    "])\n"
   ]
  },
  {
   "cell_type": "code",
   "execution_count": 32,
   "id": "f2d601be",
   "metadata": {
    "execution": {
     "iopub.execute_input": "2025-04-19T12:30:51.172561Z",
     "iopub.status.busy": "2025-04-19T12:30:51.172137Z",
     "iopub.status.idle": "2025-04-19T12:30:51.177635Z",
     "shell.execute_reply": "2025-04-19T12:30:51.176767Z"
    },
    "papermill": {
     "duration": 0.020252,
     "end_time": "2025-04-19T12:30:51.179054",
     "exception": false,
     "start_time": "2025-04-19T12:30:51.158802",
     "status": "completed"
    },
    "tags": []
   },
   "outputs": [],
   "source": [
    "if mlflow_active:\n",
    "    mlflow.log_param(\"numeric_imputation_strategy\", \"mean\")\n",
    "    mlflow.log_param(\"categorical_imputation_strategy\", \"most_frequent\")\n",
    "    mlflow.log_param(\"low_cardinality_encoding\", \"one-hot\")\n",
    "    mlflow.log_param(\"high_cardinality_encoding\", \"weight-of-evidence\")\n"
   ]
  },
  {
   "cell_type": "code",
   "execution_count": 33,
   "id": "060a485f",
   "metadata": {
    "execution": {
     "iopub.execute_input": "2025-04-19T12:30:51.205679Z",
     "iopub.status.busy": "2025-04-19T12:30:51.204885Z",
     "iopub.status.idle": "2025-04-19T12:30:52.423171Z",
     "shell.execute_reply": "2025-04-19T12:30:52.422276Z"
    },
    "papermill": {
     "duration": 1.233313,
     "end_time": "2025-04-19T12:30:52.424837",
     "exception": false,
     "start_time": "2025-04-19T12:30:51.191524",
     "status": "completed"
    },
    "tags": []
   },
   "outputs": [],
   "source": [
    "# Fit and transform the identity data\n",
    "start_time = time.time()\n",
    "identity_preprocessor.fit(X_identity_train, y_identity_train)\n",
    "X_identity_train_processed = identity_preprocessor.transform(X_identity_train)\n",
    "X_identity_test_processed = identity_preprocessor.transform(X_identity_test)\n",
    "identity_processing_time = time.time() - start_time"
   ]
  },
  {
   "cell_type": "code",
   "execution_count": 34,
   "id": "daaef6ff",
   "metadata": {
    "execution": {
     "iopub.execute_input": "2025-04-19T12:30:52.451114Z",
     "iopub.status.busy": "2025-04-19T12:30:52.450224Z",
     "iopub.status.idle": "2025-04-19T12:31:05.840091Z",
     "shell.execute_reply": "2025-04-19T12:31:05.838852Z"
    },
    "papermill": {
     "duration": 13.404851,
     "end_time": "2025-04-19T12:31:05.841889",
     "exception": false,
     "start_time": "2025-04-19T12:30:52.437038",
     "status": "completed"
    },
    "tags": []
   },
   "outputs": [],
   "source": [
    "# Fit and transform the transaction data\n",
    "start_time = time.time()\n",
    "transaction_preprocessor.fit(X_transaction_train, y_train)\n",
    "X_transaction_train_processed = transaction_preprocessor.transform(X_transaction_train)\n",
    "X_transaction_test_processed = transaction_preprocessor.transform(X_transaction_test)\n",
    "transaction_processing_time = time.time() - start_time"
   ]
  },
  {
   "cell_type": "code",
   "execution_count": 35,
   "id": "ac41873c",
   "metadata": {
    "execution": {
     "iopub.execute_input": "2025-04-19T12:31:05.868639Z",
     "iopub.status.busy": "2025-04-19T12:31:05.867965Z",
     "iopub.status.idle": "2025-04-19T12:31:05.873905Z",
     "shell.execute_reply": "2025-04-19T12:31:05.872794Z"
    },
    "papermill": {
     "duration": 0.020891,
     "end_time": "2025-04-19T12:31:05.875636",
     "exception": false,
     "start_time": "2025-04-19T12:31:05.854745",
     "status": "completed"
    },
    "tags": []
   },
   "outputs": [
    {
     "name": "stdout",
     "output_type": "stream",
     "text": [
      "\n",
      "--- Processed Data Information ---\n",
      "Processed identity train data shape: (115658, 32)\n",
      "Processed identity test data shape: (28575, 32)\n",
      "Processed transaction train data shape: (472432, 240)\n",
      "Processed transaction test data shape: (118108, 240)\n",
      "Identity processing time: 1.21 seconds\n",
      "Transaction processing time: 13.38 seconds\n"
     ]
    }
   ],
   "source": [
    "# After transformation, print more detailed information\n",
    "print(\"\\n--- Processed Data Information ---\")\n",
    "print(f\"Processed identity train data shape: {X_identity_train_processed.shape}\")\n",
    "print(f\"Processed identity test data shape: {X_identity_test_processed.shape}\")\n",
    "print(f\"Processed transaction train data shape: {X_transaction_train_processed.shape}\")\n",
    "print(f\"Processed transaction test data shape: {X_transaction_test_processed.shape}\")\n",
    "print(f\"Identity processing time: {identity_processing_time:.2f} seconds\")\n",
    "print(f\"Transaction processing time: {transaction_processing_time:.2f} seconds\")\n"
   ]
  },
  {
   "cell_type": "code",
   "execution_count": 36,
   "id": "bbb4decf",
   "metadata": {
    "execution": {
     "iopub.execute_input": "2025-04-19T12:31:05.904366Z",
     "iopub.status.busy": "2025-04-19T12:31:05.904025Z",
     "iopub.status.idle": "2025-04-19T12:31:05.909123Z",
     "shell.execute_reply": "2025-04-19T12:31:05.908301Z"
    },
    "papermill": {
     "duration": 0.021001,
     "end_time": "2025-04-19T12:31:05.910738",
     "exception": false,
     "start_time": "2025-04-19T12:31:05.889737",
     "status": "completed"
    },
    "tags": []
   },
   "outputs": [],
   "source": [
    "if mlflow_active:\n",
    "    mlflow.log_metric(\"identity_processing_time\", identity_processing_time)\n",
    "    mlflow.log_metric(\"transaction_processing_time\", transaction_processing_time)\n",
    "    mlflow.log_param(\"identity_processed_features\", X_identity_train_processed.shape[1])\n",
    "    mlflow.log_param(\"transaction_processed_features\", X_transaction_train_processed.shape[1])\n"
   ]
  },
  {
   "cell_type": "code",
   "execution_count": 37,
   "id": "ad7bf5aa",
   "metadata": {
    "execution": {
     "iopub.execute_input": "2025-04-19T12:31:05.936767Z",
     "iopub.status.busy": "2025-04-19T12:31:05.936367Z",
     "iopub.status.idle": "2025-04-19T12:31:06.382449Z",
     "shell.execute_reply": "2025-04-19T12:31:06.381285Z"
    },
    "papermill": {
     "duration": 0.461453,
     "end_time": "2025-04-19T12:31:06.384474",
     "exception": false,
     "start_time": "2025-04-19T12:31:05.923021",
     "status": "completed"
    },
    "tags": []
   },
   "outputs": [
    {
     "name": "stdout",
     "output_type": "stream",
     "text": [
      "\n",
      "--- Checking for Remaining NaN Values ---\n",
      "Identity train NaN count: 0\n",
      "Transaction train NaN count: 0\n"
     ]
    }
   ],
   "source": [
    "print(\"\\n--- Checking for Remaining NaN Values ---\")\n",
    "if isinstance(X_identity_train_processed, np.ndarray):\n",
    "    identity_nan_count = np.isnan(X_identity_train_processed).sum()\n",
    "    transaction_nan_count = np.isnan(X_transaction_train_processed).sum()\n",
    "    print(f\"Identity train NaN count: {identity_nan_count}\")\n",
    "    print(f\"Transaction train NaN count: {transaction_nan_count}\")\n",
    "else:\n",
    "    identity_nan_count = X_identity_train_processed.isna().sum().sum()\n",
    "    transaction_nan_count = X_transaction_train_processed.isna().sum().sum()\n",
    "    print(f\"Identity train NaN count: {identity_nan_count}\")\n",
    "    print(f\"Transaction train NaN count: {transaction_nan_count}\")\n"
   ]
  },
  {
   "cell_type": "code",
   "execution_count": 38,
   "id": "9c7cd9fb",
   "metadata": {
    "execution": {
     "iopub.execute_input": "2025-04-19T12:31:06.412760Z",
     "iopub.status.busy": "2025-04-19T12:31:06.412421Z",
     "iopub.status.idle": "2025-04-19T12:31:06.417432Z",
     "shell.execute_reply": "2025-04-19T12:31:06.416314Z"
    },
    "papermill": {
     "duration": 0.020901,
     "end_time": "2025-04-19T12:31:06.418962",
     "exception": false,
     "start_time": "2025-04-19T12:31:06.398061",
     "status": "completed"
    },
    "tags": []
   },
   "outputs": [],
   "source": [
    "if mlflow_active:\n",
    "    mlflow.log_metric(\"identity_remaining_nan_count\", float(identity_nan_count))\n",
    "    mlflow.log_metric(\"transaction_remaining_nan_count\", float(transaction_nan_count))\n"
   ]
  },
  {
   "cell_type": "code",
   "execution_count": 39,
   "id": "b262302d",
   "metadata": {
    "execution": {
     "iopub.execute_input": "2025-04-19T12:31:06.446784Z",
     "iopub.status.busy": "2025-04-19T12:31:06.446477Z",
     "iopub.status.idle": "2025-04-19T12:31:06.452503Z",
     "shell.execute_reply": "2025-04-19T12:31:06.451475Z"
    },
    "papermill": {
     "duration": 0.022157,
     "end_time": "2025-04-19T12:31:06.454113",
     "exception": false,
     "start_time": "2025-04-19T12:31:06.431956",
     "status": "completed"
    },
    "tags": []
   },
   "outputs": [],
   "source": [
    "class IdentityPipelineWrapper(Pipeline):\n",
    "    def predict(self, X):\n",
    "        \"\"\"Add a predict method that just returns the transformed data.\n",
    "        This allows MLflow to log the model with python_function flavor.\"\"\"\n",
    "        return self.transform(X)\n",
    "\n",
    "class TransactionPipelineWrapper(Pipeline):\n",
    "    def predict(self, X):\n",
    "        \"\"\"Add a predict method that just returns the transformed data.\n",
    "        This allows MLflow to log the model with python_function flavor.\"\"\"\n",
    "        return self.transform(X)"
   ]
  },
  {
   "cell_type": "code",
   "execution_count": 40,
   "id": "da0e0123",
   "metadata": {
    "execution": {
     "iopub.execute_input": "2025-04-19T12:31:06.482597Z",
     "iopub.status.busy": "2025-04-19T12:31:06.482274Z",
     "iopub.status.idle": "2025-04-19T12:31:06.487089Z",
     "shell.execute_reply": "2025-04-19T12:31:06.486289Z"
    },
    "papermill": {
     "duration": 0.021262,
     "end_time": "2025-04-19T12:31:06.488694",
     "exception": false,
     "start_time": "2025-04-19T12:31:06.467432",
     "status": "completed"
    },
    "tags": []
   },
   "outputs": [],
   "source": [
    "# Create wrapped versions of our pipelines\n",
    "identity_pipeline_wrapped = IdentityPipelineWrapper(\n",
    "    steps=[\n",
    "        ('na_remover', identity_na_remover),\n",
    "        ('preprocessor', identity_preprocessor)\n",
    "    ]\n",
    ")\n",
    "\n",
    "transaction_pipeline_wrapped = TransactionPipelineWrapper(\n",
    "    steps=[\n",
    "        ('na_remover', transaction_na_remover),\n",
    "        ('preprocessor', transaction_preprocessor)\n",
    "    ]\n",
    ")\n"
   ]
  },
  {
   "cell_type": "code",
   "execution_count": 41,
   "id": "f1c98759",
   "metadata": {
    "execution": {
     "iopub.execute_input": "2025-04-19T12:31:06.517235Z",
     "iopub.status.busy": "2025-04-19T12:31:06.516910Z",
     "iopub.status.idle": "2025-04-19T12:31:06.528065Z",
     "shell.execute_reply": "2025-04-19T12:31:06.527296Z"
    },
    "papermill": {
     "duration": 0.027676,
     "end_time": "2025-04-19T12:31:06.529623",
     "exception": false,
     "start_time": "2025-04-19T12:31:06.501947",
     "status": "completed"
    },
    "tags": []
   },
   "outputs": [],
   "source": [
    "# Create proper input examples for model signatures with some missing values\n",
    "identity_example = X_identity_train.iloc[:5].copy()\n",
    "# Introduce some NaN values to ensure proper schema inference\n",
    "for col in identity_example.select_dtypes(include=['int64']).columns[:2]:\n",
    "    identity_example.loc[0, col] = np.nan\n",
    "\n",
    "transaction_example = X_transaction_train.iloc[:5].copy()\n",
    "# Introduce some NaN values to ensure proper schema inference\n",
    "for col in transaction_example.select_dtypes(include=['int64']).columns[:2]:\n",
    "    transaction_example.loc[0, col] = np.nan"
   ]
  },
  {
   "cell_type": "code",
   "execution_count": 42,
   "id": "227daaeb",
   "metadata": {
    "execution": {
     "iopub.execute_input": "2025-04-19T12:31:06.556848Z",
     "iopub.status.busy": "2025-04-19T12:31:06.556559Z",
     "iopub.status.idle": "2025-04-19T12:31:06.563637Z",
     "shell.execute_reply": "2025-04-19T12:31:06.562282Z"
    },
    "papermill": {
     "duration": 0.022752,
     "end_time": "2025-04-19T12:31:06.565439",
     "exception": false,
     "start_time": "2025-04-19T12:31:06.542687",
     "status": "completed"
    },
    "tags": []
   },
   "outputs": [],
   "source": [
    "# Log the wrapped models with input examples\n",
    "if mlflow_active:\n",
    "    # Log identity pipeline with signature\n",
    "    mlflow.sklearn.log_model(\n",
    "        identity_pipeline_wrapped, \n",
    "        \"identity_pipeline_model\",\n",
    "        input_example=identity_example\n",
    "    )\n",
    "    \n",
    "    # Log transaction pipeline with signature\n",
    "    mlflow.sklearn.log_model(\n",
    "        transaction_pipeline_wrapped, \n",
    "        \"transaction_pipeline_model\",\n",
    "        input_example=transaction_example\n",
    "    )\n",
    "    \n",
    "    # Log sample data and statistics as before\n",
    "    mlflow.log_text(str(X_identity_train.iloc[0].to_dict()), \"identity_sample_input.json\")\n",
    "    mlflow.log_text(str(X_transaction_train.iloc[0].to_dict()), \"transaction_sample_input.json\")\n",
    "    mlflow.log_text(pd.DataFrame(X_identity_train_processed).describe().to_string(), \"identity_processed_stats.txt\")\n",
    "    mlflow.log_text(pd.DataFrame(X_transaction_train_processed).describe().to_string(), \"transaction_processed_stats.txt\")\n",
    "    \n",
    "    # End the MLflow run\n",
    "    mlflow.end_run()\n",
    "    print(\"MLflow run completed and artifacts logged.\")"
   ]
  }
 ],
 "metadata": {
  "kaggle": {
   "accelerator": "none",
   "dataSources": [
    {
     "databundleVersionId": 568274,
     "sourceId": 14242,
     "sourceType": "competition"
    }
   ],
   "dockerImageVersionId": 31012,
   "isGpuEnabled": false,
   "isInternetEnabled": true,
   "language": "python",
   "sourceType": "notebook"
  },
  "kernelspec": {
   "display_name": "Python 3",
   "language": "python",
   "name": "python3"
  },
  "language_info": {
   "codemirror_mode": {
    "name": "ipython",
    "version": 3
   },
   "file_extension": ".py",
   "mimetype": "text/x-python",
   "name": "python",
   "nbconvert_exporter": "python",
   "pygments_lexer": "ipython3",
   "version": "3.11.11"
  },
  "papermill": {
   "default_parameters": {},
   "duration": 398.248509,
   "end_time": "2025-04-19T12:31:08.202987",
   "environment_variables": {},
   "exception": null,
   "input_path": "__notebook__.ipynb",
   "output_path": "__notebook__.ipynb",
   "parameters": {},
   "start_time": "2025-04-19T12:24:29.954478",
   "version": "2.6.0"
  },
  "widgets": {
   "application/vnd.jupyter.widget-state+json": {
    "state": {
     "5a0b0747a40c47518a9046851ccde75a": {
      "model_module": "@jupyter-widgets/base",
      "model_module_version": "2.0.0",
      "model_name": "LayoutModel",
      "state": {
       "_model_module": "@jupyter-widgets/base",
       "_model_module_version": "2.0.0",
       "_model_name": "LayoutModel",
       "_view_count": null,
       "_view_module": "@jupyter-widgets/base",
       "_view_module_version": "2.0.0",
       "_view_name": "LayoutView",
       "align_content": null,
       "align_items": null,
       "align_self": null,
       "border_bottom": null,
       "border_left": null,
       "border_right": null,
       "border_top": null,
       "bottom": null,
       "display": null,
       "flex": null,
       "flex_flow": null,
       "grid_area": null,
       "grid_auto_columns": null,
       "grid_auto_flow": null,
       "grid_auto_rows": null,
       "grid_column": null,
       "grid_gap": null,
       "grid_row": null,
       "grid_template_areas": null,
       "grid_template_columns": null,
       "grid_template_rows": null,
       "height": null,
       "justify_content": null,
       "justify_items": null,
       "left": null,
       "margin": null,
       "max_height": null,
       "max_width": null,
       "min_height": null,
       "min_width": null,
       "object_fit": null,
       "object_position": null,
       "order": null,
       "overflow": null,
       "padding": null,
       "right": null,
       "top": null,
       "visibility": null,
       "width": null
      }
     },
     "92a1575869564145becf71a326992529": {
      "model_module": "@jupyter-widgets/output",
      "model_module_version": "1.0.0",
      "model_name": "OutputModel",
      "state": {
       "_dom_classes": [],
       "_model_module": "@jupyter-widgets/output",
       "_model_module_version": "1.0.0",
       "_model_name": "OutputModel",
       "_view_count": null,
       "_view_module": "@jupyter-widgets/output",
       "_view_module_version": "1.0.0",
       "_view_name": "OutputView",
       "layout": "IPY_MODEL_5a0b0747a40c47518a9046851ccde75a",
       "msg_id": "",
       "outputs": [
        {
         "data": {
          "text/html": "<pre style=\"white-space:pre;overflow-x:auto;line-height:normal;font-family:Menlo,'DejaVu Sans Mono',consolas,'Courier New',monospace\"><span style=\"color: #008000; text-decoration-color: #008000\">⠏</span> Waiting for authorization\n</pre>\n",
          "text/plain": "\u001b[32m⠏\u001b[0m Waiting for authorization\n"
         },
         "metadata": {},
         "output_type": "display_data"
        }
       ],
       "tabbable": null,
       "tooltip": null
      }
     }
    },
    "version_major": 2,
    "version_minor": 0
   }
  }
 },
 "nbformat": 4,
 "nbformat_minor": 5
}
